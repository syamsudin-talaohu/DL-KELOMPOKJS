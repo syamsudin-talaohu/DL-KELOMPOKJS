{
  "nbformat": 4,
  "nbformat_minor": 0,
  "metadata": {
    "colab": {
      "provenance": [],
      "gpuType": "T4"
    },
    "kernelspec": {
      "name": "python3",
      "display_name": "Python 3"
    },
    "language_info": {
      "name": "python"
    },
    "accelerator": "GPU",
    "widgets": {
      "application/vnd.jupyter.widget-state+json": {
        "d9f23427256e4c2a8a57e788b754171d": {
          "model_module": "@jupyter-widgets/controls",
          "model_name": "HBoxModel",
          "model_module_version": "1.5.0",
          "state": {
            "_dom_classes": [],
            "_model_module": "@jupyter-widgets/controls",
            "_model_module_version": "1.5.0",
            "_model_name": "HBoxModel",
            "_view_count": null,
            "_view_module": "@jupyter-widgets/controls",
            "_view_module_version": "1.5.0",
            "_view_name": "HBoxView",
            "box_style": "",
            "children": [
              "IPY_MODEL_158f0fc1d50649589c46927c8638ecdc",
              "IPY_MODEL_30079f0ec1f04de1acc614021f39353a",
              "IPY_MODEL_0b090ca3135d40bb90354671bab48243"
            ],
            "layout": "IPY_MODEL_12953943c86b4fb68ec7781a98eabd9a"
          }
        },
        "158f0fc1d50649589c46927c8638ecdc": {
          "model_module": "@jupyter-widgets/controls",
          "model_name": "HTMLModel",
          "model_module_version": "1.5.0",
          "state": {
            "_dom_classes": [],
            "_model_module": "@jupyter-widgets/controls",
            "_model_module_version": "1.5.0",
            "_model_name": "HTMLModel",
            "_view_count": null,
            "_view_module": "@jupyter-widgets/controls",
            "_view_module_version": "1.5.0",
            "_view_name": "HTMLView",
            "description": "",
            "description_tooltip": null,
            "layout": "IPY_MODEL_2eadacbf8b2f4b4a84a7e124fc86c31e",
            "placeholder": "​",
            "style": "IPY_MODEL_8b85c7d4accd47e9959c4d748c85d141",
            "value": "tokenizer_config.json: 100%"
          }
        },
        "30079f0ec1f04de1acc614021f39353a": {
          "model_module": "@jupyter-widgets/controls",
          "model_name": "FloatProgressModel",
          "model_module_version": "1.5.0",
          "state": {
            "_dom_classes": [],
            "_model_module": "@jupyter-widgets/controls",
            "_model_module_version": "1.5.0",
            "_model_name": "FloatProgressModel",
            "_view_count": null,
            "_view_module": "@jupyter-widgets/controls",
            "_view_module_version": "1.5.0",
            "_view_name": "ProgressView",
            "bar_style": "success",
            "description": "",
            "description_tooltip": null,
            "layout": "IPY_MODEL_7cf4c0e282684aad9da4d79fb89dbafd",
            "max": 25,
            "min": 0,
            "orientation": "horizontal",
            "style": "IPY_MODEL_5566a25c31a74438b59c2492664c253e",
            "value": 25
          }
        },
        "0b090ca3135d40bb90354671bab48243": {
          "model_module": "@jupyter-widgets/controls",
          "model_name": "HTMLModel",
          "model_module_version": "1.5.0",
          "state": {
            "_dom_classes": [],
            "_model_module": "@jupyter-widgets/controls",
            "_model_module_version": "1.5.0",
            "_model_name": "HTMLModel",
            "_view_count": null,
            "_view_module": "@jupyter-widgets/controls",
            "_view_module_version": "1.5.0",
            "_view_name": "HTMLView",
            "description": "",
            "description_tooltip": null,
            "layout": "IPY_MODEL_875d05a1737e4a23bdbb9bee312f99c5",
            "placeholder": "​",
            "style": "IPY_MODEL_4cbd2a75d1bf478e88119caee8e512b4",
            "value": " 25.0/25.0 [00:00&lt;00:00, 1.70kB/s]"
          }
        },
        "12953943c86b4fb68ec7781a98eabd9a": {
          "model_module": "@jupyter-widgets/base",
          "model_name": "LayoutModel",
          "model_module_version": "1.2.0",
          "state": {
            "_model_module": "@jupyter-widgets/base",
            "_model_module_version": "1.2.0",
            "_model_name": "LayoutModel",
            "_view_count": null,
            "_view_module": "@jupyter-widgets/base",
            "_view_module_version": "1.2.0",
            "_view_name": "LayoutView",
            "align_content": null,
            "align_items": null,
            "align_self": null,
            "border": null,
            "bottom": null,
            "display": null,
            "flex": null,
            "flex_flow": null,
            "grid_area": null,
            "grid_auto_columns": null,
            "grid_auto_flow": null,
            "grid_auto_rows": null,
            "grid_column": null,
            "grid_gap": null,
            "grid_row": null,
            "grid_template_areas": null,
            "grid_template_columns": null,
            "grid_template_rows": null,
            "height": null,
            "justify_content": null,
            "justify_items": null,
            "left": null,
            "margin": null,
            "max_height": null,
            "max_width": null,
            "min_height": null,
            "min_width": null,
            "object_fit": null,
            "object_position": null,
            "order": null,
            "overflow": null,
            "overflow_x": null,
            "overflow_y": null,
            "padding": null,
            "right": null,
            "top": null,
            "visibility": null,
            "width": null
          }
        },
        "2eadacbf8b2f4b4a84a7e124fc86c31e": {
          "model_module": "@jupyter-widgets/base",
          "model_name": "LayoutModel",
          "model_module_version": "1.2.0",
          "state": {
            "_model_module": "@jupyter-widgets/base",
            "_model_module_version": "1.2.0",
            "_model_name": "LayoutModel",
            "_view_count": null,
            "_view_module": "@jupyter-widgets/base",
            "_view_module_version": "1.2.0",
            "_view_name": "LayoutView",
            "align_content": null,
            "align_items": null,
            "align_self": null,
            "border": null,
            "bottom": null,
            "display": null,
            "flex": null,
            "flex_flow": null,
            "grid_area": null,
            "grid_auto_columns": null,
            "grid_auto_flow": null,
            "grid_auto_rows": null,
            "grid_column": null,
            "grid_gap": null,
            "grid_row": null,
            "grid_template_areas": null,
            "grid_template_columns": null,
            "grid_template_rows": null,
            "height": null,
            "justify_content": null,
            "justify_items": null,
            "left": null,
            "margin": null,
            "max_height": null,
            "max_width": null,
            "min_height": null,
            "min_width": null,
            "object_fit": null,
            "object_position": null,
            "order": null,
            "overflow": null,
            "overflow_x": null,
            "overflow_y": null,
            "padding": null,
            "right": null,
            "top": null,
            "visibility": null,
            "width": null
          }
        },
        "8b85c7d4accd47e9959c4d748c85d141": {
          "model_module": "@jupyter-widgets/controls",
          "model_name": "DescriptionStyleModel",
          "model_module_version": "1.5.0",
          "state": {
            "_model_module": "@jupyter-widgets/controls",
            "_model_module_version": "1.5.0",
            "_model_name": "DescriptionStyleModel",
            "_view_count": null,
            "_view_module": "@jupyter-widgets/base",
            "_view_module_version": "1.2.0",
            "_view_name": "StyleView",
            "description_width": ""
          }
        },
        "7cf4c0e282684aad9da4d79fb89dbafd": {
          "model_module": "@jupyter-widgets/base",
          "model_name": "LayoutModel",
          "model_module_version": "1.2.0",
          "state": {
            "_model_module": "@jupyter-widgets/base",
            "_model_module_version": "1.2.0",
            "_model_name": "LayoutModel",
            "_view_count": null,
            "_view_module": "@jupyter-widgets/base",
            "_view_module_version": "1.2.0",
            "_view_name": "LayoutView",
            "align_content": null,
            "align_items": null,
            "align_self": null,
            "border": null,
            "bottom": null,
            "display": null,
            "flex": null,
            "flex_flow": null,
            "grid_area": null,
            "grid_auto_columns": null,
            "grid_auto_flow": null,
            "grid_auto_rows": null,
            "grid_column": null,
            "grid_gap": null,
            "grid_row": null,
            "grid_template_areas": null,
            "grid_template_columns": null,
            "grid_template_rows": null,
            "height": null,
            "justify_content": null,
            "justify_items": null,
            "left": null,
            "margin": null,
            "max_height": null,
            "max_width": null,
            "min_height": null,
            "min_width": null,
            "object_fit": null,
            "object_position": null,
            "order": null,
            "overflow": null,
            "overflow_x": null,
            "overflow_y": null,
            "padding": null,
            "right": null,
            "top": null,
            "visibility": null,
            "width": null
          }
        },
        "5566a25c31a74438b59c2492664c253e": {
          "model_module": "@jupyter-widgets/controls",
          "model_name": "ProgressStyleModel",
          "model_module_version": "1.5.0",
          "state": {
            "_model_module": "@jupyter-widgets/controls",
            "_model_module_version": "1.5.0",
            "_model_name": "ProgressStyleModel",
            "_view_count": null,
            "_view_module": "@jupyter-widgets/base",
            "_view_module_version": "1.2.0",
            "_view_name": "StyleView",
            "bar_color": null,
            "description_width": ""
          }
        },
        "875d05a1737e4a23bdbb9bee312f99c5": {
          "model_module": "@jupyter-widgets/base",
          "model_name": "LayoutModel",
          "model_module_version": "1.2.0",
          "state": {
            "_model_module": "@jupyter-widgets/base",
            "_model_module_version": "1.2.0",
            "_model_name": "LayoutModel",
            "_view_count": null,
            "_view_module": "@jupyter-widgets/base",
            "_view_module_version": "1.2.0",
            "_view_name": "LayoutView",
            "align_content": null,
            "align_items": null,
            "align_self": null,
            "border": null,
            "bottom": null,
            "display": null,
            "flex": null,
            "flex_flow": null,
            "grid_area": null,
            "grid_auto_columns": null,
            "grid_auto_flow": null,
            "grid_auto_rows": null,
            "grid_column": null,
            "grid_gap": null,
            "grid_row": null,
            "grid_template_areas": null,
            "grid_template_columns": null,
            "grid_template_rows": null,
            "height": null,
            "justify_content": null,
            "justify_items": null,
            "left": null,
            "margin": null,
            "max_height": null,
            "max_width": null,
            "min_height": null,
            "min_width": null,
            "object_fit": null,
            "object_position": null,
            "order": null,
            "overflow": null,
            "overflow_x": null,
            "overflow_y": null,
            "padding": null,
            "right": null,
            "top": null,
            "visibility": null,
            "width": null
          }
        },
        "4cbd2a75d1bf478e88119caee8e512b4": {
          "model_module": "@jupyter-widgets/controls",
          "model_name": "DescriptionStyleModel",
          "model_module_version": "1.5.0",
          "state": {
            "_model_module": "@jupyter-widgets/controls",
            "_model_module_version": "1.5.0",
            "_model_name": "DescriptionStyleModel",
            "_view_count": null,
            "_view_module": "@jupyter-widgets/base",
            "_view_module_version": "1.2.0",
            "_view_name": "StyleView",
            "description_width": ""
          }
        },
        "e919585b40dd41ea94b7e597e5783217": {
          "model_module": "@jupyter-widgets/controls",
          "model_name": "HBoxModel",
          "model_module_version": "1.5.0",
          "state": {
            "_dom_classes": [],
            "_model_module": "@jupyter-widgets/controls",
            "_model_module_version": "1.5.0",
            "_model_name": "HBoxModel",
            "_view_count": null,
            "_view_module": "@jupyter-widgets/controls",
            "_view_module_version": "1.5.0",
            "_view_name": "HBoxView",
            "box_style": "",
            "children": [
              "IPY_MODEL_f10322e729c7437a8285253f4dc8ee73",
              "IPY_MODEL_cbc700771f8c42fc9abaefc1ea52f0e4",
              "IPY_MODEL_2aa8f877f4f44ed1a6c1af2dbe4fc894"
            ],
            "layout": "IPY_MODEL_109d0b8f8e7c4e8a890ba73338579db7"
          }
        },
        "f10322e729c7437a8285253f4dc8ee73": {
          "model_module": "@jupyter-widgets/controls",
          "model_name": "HTMLModel",
          "model_module_version": "1.5.0",
          "state": {
            "_dom_classes": [],
            "_model_module": "@jupyter-widgets/controls",
            "_model_module_version": "1.5.0",
            "_model_name": "HTMLModel",
            "_view_count": null,
            "_view_module": "@jupyter-widgets/controls",
            "_view_module_version": "1.5.0",
            "_view_name": "HTMLView",
            "description": "",
            "description_tooltip": null,
            "layout": "IPY_MODEL_c68fba18149d4a06bd0c5ec90c49a61b",
            "placeholder": "​",
            "style": "IPY_MODEL_8367723762144145ace606bbe80e98bc",
            "value": "config.json: 100%"
          }
        },
        "cbc700771f8c42fc9abaefc1ea52f0e4": {
          "model_module": "@jupyter-widgets/controls",
          "model_name": "FloatProgressModel",
          "model_module_version": "1.5.0",
          "state": {
            "_dom_classes": [],
            "_model_module": "@jupyter-widgets/controls",
            "_model_module_version": "1.5.0",
            "_model_name": "FloatProgressModel",
            "_view_count": null,
            "_view_module": "@jupyter-widgets/controls",
            "_view_module_version": "1.5.0",
            "_view_name": "ProgressView",
            "bar_style": "success",
            "description": "",
            "description_tooltip": null,
            "layout": "IPY_MODEL_027d44598c14439897466f778ce64418",
            "max": 482,
            "min": 0,
            "orientation": "horizontal",
            "style": "IPY_MODEL_c0757c5168644a2db3671a50c60e7024",
            "value": 482
          }
        },
        "2aa8f877f4f44ed1a6c1af2dbe4fc894": {
          "model_module": "@jupyter-widgets/controls",
          "model_name": "HTMLModel",
          "model_module_version": "1.5.0",
          "state": {
            "_dom_classes": [],
            "_model_module": "@jupyter-widgets/controls",
            "_model_module_version": "1.5.0",
            "_model_name": "HTMLModel",
            "_view_count": null,
            "_view_module": "@jupyter-widgets/controls",
            "_view_module_version": "1.5.0",
            "_view_name": "HTMLView",
            "description": "",
            "description_tooltip": null,
            "layout": "IPY_MODEL_d08c050314db43c0b7f4f3ac8eb1fd57",
            "placeholder": "​",
            "style": "IPY_MODEL_f66d4bfebde747acbb540572c6a9d918",
            "value": " 482/482 [00:00&lt;00:00, 32.4kB/s]"
          }
        },
        "109d0b8f8e7c4e8a890ba73338579db7": {
          "model_module": "@jupyter-widgets/base",
          "model_name": "LayoutModel",
          "model_module_version": "1.2.0",
          "state": {
            "_model_module": "@jupyter-widgets/base",
            "_model_module_version": "1.2.0",
            "_model_name": "LayoutModel",
            "_view_count": null,
            "_view_module": "@jupyter-widgets/base",
            "_view_module_version": "1.2.0",
            "_view_name": "LayoutView",
            "align_content": null,
            "align_items": null,
            "align_self": null,
            "border": null,
            "bottom": null,
            "display": null,
            "flex": null,
            "flex_flow": null,
            "grid_area": null,
            "grid_auto_columns": null,
            "grid_auto_flow": null,
            "grid_auto_rows": null,
            "grid_column": null,
            "grid_gap": null,
            "grid_row": null,
            "grid_template_areas": null,
            "grid_template_columns": null,
            "grid_template_rows": null,
            "height": null,
            "justify_content": null,
            "justify_items": null,
            "left": null,
            "margin": null,
            "max_height": null,
            "max_width": null,
            "min_height": null,
            "min_width": null,
            "object_fit": null,
            "object_position": null,
            "order": null,
            "overflow": null,
            "overflow_x": null,
            "overflow_y": null,
            "padding": null,
            "right": null,
            "top": null,
            "visibility": null,
            "width": null
          }
        },
        "c68fba18149d4a06bd0c5ec90c49a61b": {
          "model_module": "@jupyter-widgets/base",
          "model_name": "LayoutModel",
          "model_module_version": "1.2.0",
          "state": {
            "_model_module": "@jupyter-widgets/base",
            "_model_module_version": "1.2.0",
            "_model_name": "LayoutModel",
            "_view_count": null,
            "_view_module": "@jupyter-widgets/base",
            "_view_module_version": "1.2.0",
            "_view_name": "LayoutView",
            "align_content": null,
            "align_items": null,
            "align_self": null,
            "border": null,
            "bottom": null,
            "display": null,
            "flex": null,
            "flex_flow": null,
            "grid_area": null,
            "grid_auto_columns": null,
            "grid_auto_flow": null,
            "grid_auto_rows": null,
            "grid_column": null,
            "grid_gap": null,
            "grid_row": null,
            "grid_template_areas": null,
            "grid_template_columns": null,
            "grid_template_rows": null,
            "height": null,
            "justify_content": null,
            "justify_items": null,
            "left": null,
            "margin": null,
            "max_height": null,
            "max_width": null,
            "min_height": null,
            "min_width": null,
            "object_fit": null,
            "object_position": null,
            "order": null,
            "overflow": null,
            "overflow_x": null,
            "overflow_y": null,
            "padding": null,
            "right": null,
            "top": null,
            "visibility": null,
            "width": null
          }
        },
        "8367723762144145ace606bbe80e98bc": {
          "model_module": "@jupyter-widgets/controls",
          "model_name": "DescriptionStyleModel",
          "model_module_version": "1.5.0",
          "state": {
            "_model_module": "@jupyter-widgets/controls",
            "_model_module_version": "1.5.0",
            "_model_name": "DescriptionStyleModel",
            "_view_count": null,
            "_view_module": "@jupyter-widgets/base",
            "_view_module_version": "1.2.0",
            "_view_name": "StyleView",
            "description_width": ""
          }
        },
        "027d44598c14439897466f778ce64418": {
          "model_module": "@jupyter-widgets/base",
          "model_name": "LayoutModel",
          "model_module_version": "1.2.0",
          "state": {
            "_model_module": "@jupyter-widgets/base",
            "_model_module_version": "1.2.0",
            "_model_name": "LayoutModel",
            "_view_count": null,
            "_view_module": "@jupyter-widgets/base",
            "_view_module_version": "1.2.0",
            "_view_name": "LayoutView",
            "align_content": null,
            "align_items": null,
            "align_self": null,
            "border": null,
            "bottom": null,
            "display": null,
            "flex": null,
            "flex_flow": null,
            "grid_area": null,
            "grid_auto_columns": null,
            "grid_auto_flow": null,
            "grid_auto_rows": null,
            "grid_column": null,
            "grid_gap": null,
            "grid_row": null,
            "grid_template_areas": null,
            "grid_template_columns": null,
            "grid_template_rows": null,
            "height": null,
            "justify_content": null,
            "justify_items": null,
            "left": null,
            "margin": null,
            "max_height": null,
            "max_width": null,
            "min_height": null,
            "min_width": null,
            "object_fit": null,
            "object_position": null,
            "order": null,
            "overflow": null,
            "overflow_x": null,
            "overflow_y": null,
            "padding": null,
            "right": null,
            "top": null,
            "visibility": null,
            "width": null
          }
        },
        "c0757c5168644a2db3671a50c60e7024": {
          "model_module": "@jupyter-widgets/controls",
          "model_name": "ProgressStyleModel",
          "model_module_version": "1.5.0",
          "state": {
            "_model_module": "@jupyter-widgets/controls",
            "_model_module_version": "1.5.0",
            "_model_name": "ProgressStyleModel",
            "_view_count": null,
            "_view_module": "@jupyter-widgets/base",
            "_view_module_version": "1.2.0",
            "_view_name": "StyleView",
            "bar_color": null,
            "description_width": ""
          }
        },
        "d08c050314db43c0b7f4f3ac8eb1fd57": {
          "model_module": "@jupyter-widgets/base",
          "model_name": "LayoutModel",
          "model_module_version": "1.2.0",
          "state": {
            "_model_module": "@jupyter-widgets/base",
            "_model_module_version": "1.2.0",
            "_model_name": "LayoutModel",
            "_view_count": null,
            "_view_module": "@jupyter-widgets/base",
            "_view_module_version": "1.2.0",
            "_view_name": "LayoutView",
            "align_content": null,
            "align_items": null,
            "align_self": null,
            "border": null,
            "bottom": null,
            "display": null,
            "flex": null,
            "flex_flow": null,
            "grid_area": null,
            "grid_auto_columns": null,
            "grid_auto_flow": null,
            "grid_auto_rows": null,
            "grid_column": null,
            "grid_gap": null,
            "grid_row": null,
            "grid_template_areas": null,
            "grid_template_columns": null,
            "grid_template_rows": null,
            "height": null,
            "justify_content": null,
            "justify_items": null,
            "left": null,
            "margin": null,
            "max_height": null,
            "max_width": null,
            "min_height": null,
            "min_width": null,
            "object_fit": null,
            "object_position": null,
            "order": null,
            "overflow": null,
            "overflow_x": null,
            "overflow_y": null,
            "padding": null,
            "right": null,
            "top": null,
            "visibility": null,
            "width": null
          }
        },
        "f66d4bfebde747acbb540572c6a9d918": {
          "model_module": "@jupyter-widgets/controls",
          "model_name": "DescriptionStyleModel",
          "model_module_version": "1.5.0",
          "state": {
            "_model_module": "@jupyter-widgets/controls",
            "_model_module_version": "1.5.0",
            "_model_name": "DescriptionStyleModel",
            "_view_count": null,
            "_view_module": "@jupyter-widgets/base",
            "_view_module_version": "1.2.0",
            "_view_name": "StyleView",
            "description_width": ""
          }
        },
        "4cf3495658cf4b0fa50aab7a89bbed24": {
          "model_module": "@jupyter-widgets/controls",
          "model_name": "HBoxModel",
          "model_module_version": "1.5.0",
          "state": {
            "_dom_classes": [],
            "_model_module": "@jupyter-widgets/controls",
            "_model_module_version": "1.5.0",
            "_model_name": "HBoxModel",
            "_view_count": null,
            "_view_module": "@jupyter-widgets/controls",
            "_view_module_version": "1.5.0",
            "_view_name": "HBoxView",
            "box_style": "",
            "children": [
              "IPY_MODEL_497e66f1abe94bd8ad463139daf1ec2b",
              "IPY_MODEL_6b89020f0e4f4a13bf5d1b59ef667fea",
              "IPY_MODEL_529c7ced84324b83bb5c590d386d34f0"
            ],
            "layout": "IPY_MODEL_59bae3196ae249cfab46dad1a37684cd"
          }
        },
        "497e66f1abe94bd8ad463139daf1ec2b": {
          "model_module": "@jupyter-widgets/controls",
          "model_name": "HTMLModel",
          "model_module_version": "1.5.0",
          "state": {
            "_dom_classes": [],
            "_model_module": "@jupyter-widgets/controls",
            "_model_module_version": "1.5.0",
            "_model_name": "HTMLModel",
            "_view_count": null,
            "_view_module": "@jupyter-widgets/controls",
            "_view_module_version": "1.5.0",
            "_view_name": "HTMLView",
            "description": "",
            "description_tooltip": null,
            "layout": "IPY_MODEL_9ca15ad890a141d4b64af3024b757e13",
            "placeholder": "​",
            "style": "IPY_MODEL_65e5a96ab6c645bdbf251e608fa19bd7",
            "value": "vocab.json: 100%"
          }
        },
        "6b89020f0e4f4a13bf5d1b59ef667fea": {
          "model_module": "@jupyter-widgets/controls",
          "model_name": "FloatProgressModel",
          "model_module_version": "1.5.0",
          "state": {
            "_dom_classes": [],
            "_model_module": "@jupyter-widgets/controls",
            "_model_module_version": "1.5.0",
            "_model_name": "FloatProgressModel",
            "_view_count": null,
            "_view_module": "@jupyter-widgets/controls",
            "_view_module_version": "1.5.0",
            "_view_name": "ProgressView",
            "bar_style": "success",
            "description": "",
            "description_tooltip": null,
            "layout": "IPY_MODEL_3a4895272aaa4b3db90fce6dd1bb5b0b",
            "max": 898823,
            "min": 0,
            "orientation": "horizontal",
            "style": "IPY_MODEL_fd5f419451fa433b864196e2b3aaa0a7",
            "value": 898823
          }
        },
        "529c7ced84324b83bb5c590d386d34f0": {
          "model_module": "@jupyter-widgets/controls",
          "model_name": "HTMLModel",
          "model_module_version": "1.5.0",
          "state": {
            "_dom_classes": [],
            "_model_module": "@jupyter-widgets/controls",
            "_model_module_version": "1.5.0",
            "_model_name": "HTMLModel",
            "_view_count": null,
            "_view_module": "@jupyter-widgets/controls",
            "_view_module_version": "1.5.0",
            "_view_name": "HTMLView",
            "description": "",
            "description_tooltip": null,
            "layout": "IPY_MODEL_90438afb84c040fd82c6a1c600917c82",
            "placeholder": "​",
            "style": "IPY_MODEL_e8b5d1303662411dbfd52c7c499b6098",
            "value": " 899k/899k [00:00&lt;00:00, 1.40MB/s]"
          }
        },
        "59bae3196ae249cfab46dad1a37684cd": {
          "model_module": "@jupyter-widgets/base",
          "model_name": "LayoutModel",
          "model_module_version": "1.2.0",
          "state": {
            "_model_module": "@jupyter-widgets/base",
            "_model_module_version": "1.2.0",
            "_model_name": "LayoutModel",
            "_view_count": null,
            "_view_module": "@jupyter-widgets/base",
            "_view_module_version": "1.2.0",
            "_view_name": "LayoutView",
            "align_content": null,
            "align_items": null,
            "align_self": null,
            "border": null,
            "bottom": null,
            "display": null,
            "flex": null,
            "flex_flow": null,
            "grid_area": null,
            "grid_auto_columns": null,
            "grid_auto_flow": null,
            "grid_auto_rows": null,
            "grid_column": null,
            "grid_gap": null,
            "grid_row": null,
            "grid_template_areas": null,
            "grid_template_columns": null,
            "grid_template_rows": null,
            "height": null,
            "justify_content": null,
            "justify_items": null,
            "left": null,
            "margin": null,
            "max_height": null,
            "max_width": null,
            "min_height": null,
            "min_width": null,
            "object_fit": null,
            "object_position": null,
            "order": null,
            "overflow": null,
            "overflow_x": null,
            "overflow_y": null,
            "padding": null,
            "right": null,
            "top": null,
            "visibility": null,
            "width": null
          }
        },
        "9ca15ad890a141d4b64af3024b757e13": {
          "model_module": "@jupyter-widgets/base",
          "model_name": "LayoutModel",
          "model_module_version": "1.2.0",
          "state": {
            "_model_module": "@jupyter-widgets/base",
            "_model_module_version": "1.2.0",
            "_model_name": "LayoutModel",
            "_view_count": null,
            "_view_module": "@jupyter-widgets/base",
            "_view_module_version": "1.2.0",
            "_view_name": "LayoutView",
            "align_content": null,
            "align_items": null,
            "align_self": null,
            "border": null,
            "bottom": null,
            "display": null,
            "flex": null,
            "flex_flow": null,
            "grid_area": null,
            "grid_auto_columns": null,
            "grid_auto_flow": null,
            "grid_auto_rows": null,
            "grid_column": null,
            "grid_gap": null,
            "grid_row": null,
            "grid_template_areas": null,
            "grid_template_columns": null,
            "grid_template_rows": null,
            "height": null,
            "justify_content": null,
            "justify_items": null,
            "left": null,
            "margin": null,
            "max_height": null,
            "max_width": null,
            "min_height": null,
            "min_width": null,
            "object_fit": null,
            "object_position": null,
            "order": null,
            "overflow": null,
            "overflow_x": null,
            "overflow_y": null,
            "padding": null,
            "right": null,
            "top": null,
            "visibility": null,
            "width": null
          }
        },
        "65e5a96ab6c645bdbf251e608fa19bd7": {
          "model_module": "@jupyter-widgets/controls",
          "model_name": "DescriptionStyleModel",
          "model_module_version": "1.5.0",
          "state": {
            "_model_module": "@jupyter-widgets/controls",
            "_model_module_version": "1.5.0",
            "_model_name": "DescriptionStyleModel",
            "_view_count": null,
            "_view_module": "@jupyter-widgets/base",
            "_view_module_version": "1.2.0",
            "_view_name": "StyleView",
            "description_width": ""
          }
        },
        "3a4895272aaa4b3db90fce6dd1bb5b0b": {
          "model_module": "@jupyter-widgets/base",
          "model_name": "LayoutModel",
          "model_module_version": "1.2.0",
          "state": {
            "_model_module": "@jupyter-widgets/base",
            "_model_module_version": "1.2.0",
            "_model_name": "LayoutModel",
            "_view_count": null,
            "_view_module": "@jupyter-widgets/base",
            "_view_module_version": "1.2.0",
            "_view_name": "LayoutView",
            "align_content": null,
            "align_items": null,
            "align_self": null,
            "border": null,
            "bottom": null,
            "display": null,
            "flex": null,
            "flex_flow": null,
            "grid_area": null,
            "grid_auto_columns": null,
            "grid_auto_flow": null,
            "grid_auto_rows": null,
            "grid_column": null,
            "grid_gap": null,
            "grid_row": null,
            "grid_template_areas": null,
            "grid_template_columns": null,
            "grid_template_rows": null,
            "height": null,
            "justify_content": null,
            "justify_items": null,
            "left": null,
            "margin": null,
            "max_height": null,
            "max_width": null,
            "min_height": null,
            "min_width": null,
            "object_fit": null,
            "object_position": null,
            "order": null,
            "overflow": null,
            "overflow_x": null,
            "overflow_y": null,
            "padding": null,
            "right": null,
            "top": null,
            "visibility": null,
            "width": null
          }
        },
        "fd5f419451fa433b864196e2b3aaa0a7": {
          "model_module": "@jupyter-widgets/controls",
          "model_name": "ProgressStyleModel",
          "model_module_version": "1.5.0",
          "state": {
            "_model_module": "@jupyter-widgets/controls",
            "_model_module_version": "1.5.0",
            "_model_name": "ProgressStyleModel",
            "_view_count": null,
            "_view_module": "@jupyter-widgets/base",
            "_view_module_version": "1.2.0",
            "_view_name": "StyleView",
            "bar_color": null,
            "description_width": ""
          }
        },
        "90438afb84c040fd82c6a1c600917c82": {
          "model_module": "@jupyter-widgets/base",
          "model_name": "LayoutModel",
          "model_module_version": "1.2.0",
          "state": {
            "_model_module": "@jupyter-widgets/base",
            "_model_module_version": "1.2.0",
            "_model_name": "LayoutModel",
            "_view_count": null,
            "_view_module": "@jupyter-widgets/base",
            "_view_module_version": "1.2.0",
            "_view_name": "LayoutView",
            "align_content": null,
            "align_items": null,
            "align_self": null,
            "border": null,
            "bottom": null,
            "display": null,
            "flex": null,
            "flex_flow": null,
            "grid_area": null,
            "grid_auto_columns": null,
            "grid_auto_flow": null,
            "grid_auto_rows": null,
            "grid_column": null,
            "grid_gap": null,
            "grid_row": null,
            "grid_template_areas": null,
            "grid_template_columns": null,
            "grid_template_rows": null,
            "height": null,
            "justify_content": null,
            "justify_items": null,
            "left": null,
            "margin": null,
            "max_height": null,
            "max_width": null,
            "min_height": null,
            "min_width": null,
            "object_fit": null,
            "object_position": null,
            "order": null,
            "overflow": null,
            "overflow_x": null,
            "overflow_y": null,
            "padding": null,
            "right": null,
            "top": null,
            "visibility": null,
            "width": null
          }
        },
        "e8b5d1303662411dbfd52c7c499b6098": {
          "model_module": "@jupyter-widgets/controls",
          "model_name": "DescriptionStyleModel",
          "model_module_version": "1.5.0",
          "state": {
            "_model_module": "@jupyter-widgets/controls",
            "_model_module_version": "1.5.0",
            "_model_name": "DescriptionStyleModel",
            "_view_count": null,
            "_view_module": "@jupyter-widgets/base",
            "_view_module_version": "1.2.0",
            "_view_name": "StyleView",
            "description_width": ""
          }
        },
        "414fae10110c49a7a4789624a6a43ee0": {
          "model_module": "@jupyter-widgets/controls",
          "model_name": "HBoxModel",
          "model_module_version": "1.5.0",
          "state": {
            "_dom_classes": [],
            "_model_module": "@jupyter-widgets/controls",
            "_model_module_version": "1.5.0",
            "_model_name": "HBoxModel",
            "_view_count": null,
            "_view_module": "@jupyter-widgets/controls",
            "_view_module_version": "1.5.0",
            "_view_name": "HBoxView",
            "box_style": "",
            "children": [
              "IPY_MODEL_d361901b904148fb90d85cabab96569f",
              "IPY_MODEL_7e2b90213bff4891a26977949fe25fe2",
              "IPY_MODEL_17a249fd72844dcf9e7a4302650266fc"
            ],
            "layout": "IPY_MODEL_d8a88781caa24dcea5a0682847b4b271"
          }
        },
        "d361901b904148fb90d85cabab96569f": {
          "model_module": "@jupyter-widgets/controls",
          "model_name": "HTMLModel",
          "model_module_version": "1.5.0",
          "state": {
            "_dom_classes": [],
            "_model_module": "@jupyter-widgets/controls",
            "_model_module_version": "1.5.0",
            "_model_name": "HTMLModel",
            "_view_count": null,
            "_view_module": "@jupyter-widgets/controls",
            "_view_module_version": "1.5.0",
            "_view_name": "HTMLView",
            "description": "",
            "description_tooltip": null,
            "layout": "IPY_MODEL_039c00f8268d4d4c96d892a56787ef21",
            "placeholder": "​",
            "style": "IPY_MODEL_2793a9e8807e4a77bb1c97d54a534216",
            "value": "merges.txt: 100%"
          }
        },
        "7e2b90213bff4891a26977949fe25fe2": {
          "model_module": "@jupyter-widgets/controls",
          "model_name": "FloatProgressModel",
          "model_module_version": "1.5.0",
          "state": {
            "_dom_classes": [],
            "_model_module": "@jupyter-widgets/controls",
            "_model_module_version": "1.5.0",
            "_model_name": "FloatProgressModel",
            "_view_count": null,
            "_view_module": "@jupyter-widgets/controls",
            "_view_module_version": "1.5.0",
            "_view_name": "ProgressView",
            "bar_style": "success",
            "description": "",
            "description_tooltip": null,
            "layout": "IPY_MODEL_d9dc26975c644fe5923fa065366998fb",
            "max": 456318,
            "min": 0,
            "orientation": "horizontal",
            "style": "IPY_MODEL_adc9fc8a28654011bfe2d2082c97d138",
            "value": 456318
          }
        },
        "17a249fd72844dcf9e7a4302650266fc": {
          "model_module": "@jupyter-widgets/controls",
          "model_name": "HTMLModel",
          "model_module_version": "1.5.0",
          "state": {
            "_dom_classes": [],
            "_model_module": "@jupyter-widgets/controls",
            "_model_module_version": "1.5.0",
            "_model_name": "HTMLModel",
            "_view_count": null,
            "_view_module": "@jupyter-widgets/controls",
            "_view_module_version": "1.5.0",
            "_view_name": "HTMLView",
            "description": "",
            "description_tooltip": null,
            "layout": "IPY_MODEL_9d90017ccc87479eba00884943e84032",
            "placeholder": "​",
            "style": "IPY_MODEL_dff414499f5b47fe9b72f58f2c605656",
            "value": " 456k/456k [00:00&lt;00:00, 27.9MB/s]"
          }
        },
        "d8a88781caa24dcea5a0682847b4b271": {
          "model_module": "@jupyter-widgets/base",
          "model_name": "LayoutModel",
          "model_module_version": "1.2.0",
          "state": {
            "_model_module": "@jupyter-widgets/base",
            "_model_module_version": "1.2.0",
            "_model_name": "LayoutModel",
            "_view_count": null,
            "_view_module": "@jupyter-widgets/base",
            "_view_module_version": "1.2.0",
            "_view_name": "LayoutView",
            "align_content": null,
            "align_items": null,
            "align_self": null,
            "border": null,
            "bottom": null,
            "display": null,
            "flex": null,
            "flex_flow": null,
            "grid_area": null,
            "grid_auto_columns": null,
            "grid_auto_flow": null,
            "grid_auto_rows": null,
            "grid_column": null,
            "grid_gap": null,
            "grid_row": null,
            "grid_template_areas": null,
            "grid_template_columns": null,
            "grid_template_rows": null,
            "height": null,
            "justify_content": null,
            "justify_items": null,
            "left": null,
            "margin": null,
            "max_height": null,
            "max_width": null,
            "min_height": null,
            "min_width": null,
            "object_fit": null,
            "object_position": null,
            "order": null,
            "overflow": null,
            "overflow_x": null,
            "overflow_y": null,
            "padding": null,
            "right": null,
            "top": null,
            "visibility": null,
            "width": null
          }
        },
        "039c00f8268d4d4c96d892a56787ef21": {
          "model_module": "@jupyter-widgets/base",
          "model_name": "LayoutModel",
          "model_module_version": "1.2.0",
          "state": {
            "_model_module": "@jupyter-widgets/base",
            "_model_module_version": "1.2.0",
            "_model_name": "LayoutModel",
            "_view_count": null,
            "_view_module": "@jupyter-widgets/base",
            "_view_module_version": "1.2.0",
            "_view_name": "LayoutView",
            "align_content": null,
            "align_items": null,
            "align_self": null,
            "border": null,
            "bottom": null,
            "display": null,
            "flex": null,
            "flex_flow": null,
            "grid_area": null,
            "grid_auto_columns": null,
            "grid_auto_flow": null,
            "grid_auto_rows": null,
            "grid_column": null,
            "grid_gap": null,
            "grid_row": null,
            "grid_template_areas": null,
            "grid_template_columns": null,
            "grid_template_rows": null,
            "height": null,
            "justify_content": null,
            "justify_items": null,
            "left": null,
            "margin": null,
            "max_height": null,
            "max_width": null,
            "min_height": null,
            "min_width": null,
            "object_fit": null,
            "object_position": null,
            "order": null,
            "overflow": null,
            "overflow_x": null,
            "overflow_y": null,
            "padding": null,
            "right": null,
            "top": null,
            "visibility": null,
            "width": null
          }
        },
        "2793a9e8807e4a77bb1c97d54a534216": {
          "model_module": "@jupyter-widgets/controls",
          "model_name": "DescriptionStyleModel",
          "model_module_version": "1.5.0",
          "state": {
            "_model_module": "@jupyter-widgets/controls",
            "_model_module_version": "1.5.0",
            "_model_name": "DescriptionStyleModel",
            "_view_count": null,
            "_view_module": "@jupyter-widgets/base",
            "_view_module_version": "1.2.0",
            "_view_name": "StyleView",
            "description_width": ""
          }
        },
        "d9dc26975c644fe5923fa065366998fb": {
          "model_module": "@jupyter-widgets/base",
          "model_name": "LayoutModel",
          "model_module_version": "1.2.0",
          "state": {
            "_model_module": "@jupyter-widgets/base",
            "_model_module_version": "1.2.0",
            "_model_name": "LayoutModel",
            "_view_count": null,
            "_view_module": "@jupyter-widgets/base",
            "_view_module_version": "1.2.0",
            "_view_name": "LayoutView",
            "align_content": null,
            "align_items": null,
            "align_self": null,
            "border": null,
            "bottom": null,
            "display": null,
            "flex": null,
            "flex_flow": null,
            "grid_area": null,
            "grid_auto_columns": null,
            "grid_auto_flow": null,
            "grid_auto_rows": null,
            "grid_column": null,
            "grid_gap": null,
            "grid_row": null,
            "grid_template_areas": null,
            "grid_template_columns": null,
            "grid_template_rows": null,
            "height": null,
            "justify_content": null,
            "justify_items": null,
            "left": null,
            "margin": null,
            "max_height": null,
            "max_width": null,
            "min_height": null,
            "min_width": null,
            "object_fit": null,
            "object_position": null,
            "order": null,
            "overflow": null,
            "overflow_x": null,
            "overflow_y": null,
            "padding": null,
            "right": null,
            "top": null,
            "visibility": null,
            "width": null
          }
        },
        "adc9fc8a28654011bfe2d2082c97d138": {
          "model_module": "@jupyter-widgets/controls",
          "model_name": "ProgressStyleModel",
          "model_module_version": "1.5.0",
          "state": {
            "_model_module": "@jupyter-widgets/controls",
            "_model_module_version": "1.5.0",
            "_model_name": "ProgressStyleModel",
            "_view_count": null,
            "_view_module": "@jupyter-widgets/base",
            "_view_module_version": "1.2.0",
            "_view_name": "StyleView",
            "bar_color": null,
            "description_width": ""
          }
        },
        "9d90017ccc87479eba00884943e84032": {
          "model_module": "@jupyter-widgets/base",
          "model_name": "LayoutModel",
          "model_module_version": "1.2.0",
          "state": {
            "_model_module": "@jupyter-widgets/base",
            "_model_module_version": "1.2.0",
            "_model_name": "LayoutModel",
            "_view_count": null,
            "_view_module": "@jupyter-widgets/base",
            "_view_module_version": "1.2.0",
            "_view_name": "LayoutView",
            "align_content": null,
            "align_items": null,
            "align_self": null,
            "border": null,
            "bottom": null,
            "display": null,
            "flex": null,
            "flex_flow": null,
            "grid_area": null,
            "grid_auto_columns": null,
            "grid_auto_flow": null,
            "grid_auto_rows": null,
            "grid_column": null,
            "grid_gap": null,
            "grid_row": null,
            "grid_template_areas": null,
            "grid_template_columns": null,
            "grid_template_rows": null,
            "height": null,
            "justify_content": null,
            "justify_items": null,
            "left": null,
            "margin": null,
            "max_height": null,
            "max_width": null,
            "min_height": null,
            "min_width": null,
            "object_fit": null,
            "object_position": null,
            "order": null,
            "overflow": null,
            "overflow_x": null,
            "overflow_y": null,
            "padding": null,
            "right": null,
            "top": null,
            "visibility": null,
            "width": null
          }
        },
        "dff414499f5b47fe9b72f58f2c605656": {
          "model_module": "@jupyter-widgets/controls",
          "model_name": "DescriptionStyleModel",
          "model_module_version": "1.5.0",
          "state": {
            "_model_module": "@jupyter-widgets/controls",
            "_model_module_version": "1.5.0",
            "_model_name": "DescriptionStyleModel",
            "_view_count": null,
            "_view_module": "@jupyter-widgets/base",
            "_view_module_version": "1.2.0",
            "_view_name": "StyleView",
            "description_width": ""
          }
        },
        "e2d92caa61414a0daaba848ff1266970": {
          "model_module": "@jupyter-widgets/controls",
          "model_name": "HBoxModel",
          "model_module_version": "1.5.0",
          "state": {
            "_dom_classes": [],
            "_model_module": "@jupyter-widgets/controls",
            "_model_module_version": "1.5.0",
            "_model_name": "HBoxModel",
            "_view_count": null,
            "_view_module": "@jupyter-widgets/controls",
            "_view_module_version": "1.5.0",
            "_view_name": "HBoxView",
            "box_style": "",
            "children": [
              "IPY_MODEL_6cd66f2902e446488606f50b73a33d27",
              "IPY_MODEL_8647e3cd020d4d99beae2bb2d8a82ce1",
              "IPY_MODEL_4b4314448ce6429eb8dfa2f8aceb966c"
            ],
            "layout": "IPY_MODEL_0a22dc3fabf3411cb584ab4719ce3ca5"
          }
        },
        "6cd66f2902e446488606f50b73a33d27": {
          "model_module": "@jupyter-widgets/controls",
          "model_name": "HTMLModel",
          "model_module_version": "1.5.0",
          "state": {
            "_dom_classes": [],
            "_model_module": "@jupyter-widgets/controls",
            "_model_module_version": "1.5.0",
            "_model_name": "HTMLModel",
            "_view_count": null,
            "_view_module": "@jupyter-widgets/controls",
            "_view_module_version": "1.5.0",
            "_view_name": "HTMLView",
            "description": "",
            "description_tooltip": null,
            "layout": "IPY_MODEL_5010bf30dbf844df9cf5621c7a825955",
            "placeholder": "​",
            "style": "IPY_MODEL_1b70fbf2be2c46b99285e208a19eb742",
            "value": "tokenizer.json: 100%"
          }
        },
        "8647e3cd020d4d99beae2bb2d8a82ce1": {
          "model_module": "@jupyter-widgets/controls",
          "model_name": "FloatProgressModel",
          "model_module_version": "1.5.0",
          "state": {
            "_dom_classes": [],
            "_model_module": "@jupyter-widgets/controls",
            "_model_module_version": "1.5.0",
            "_model_name": "FloatProgressModel",
            "_view_count": null,
            "_view_module": "@jupyter-widgets/controls",
            "_view_module_version": "1.5.0",
            "_view_name": "ProgressView",
            "bar_style": "success",
            "description": "",
            "description_tooltip": null,
            "layout": "IPY_MODEL_2170ccb3c78948178db3946ba9786458",
            "max": 1355863,
            "min": 0,
            "orientation": "horizontal",
            "style": "IPY_MODEL_a3b2a1ecc1d04d9bb099add09b9b6ada",
            "value": 1355863
          }
        },
        "4b4314448ce6429eb8dfa2f8aceb966c": {
          "model_module": "@jupyter-widgets/controls",
          "model_name": "HTMLModel",
          "model_module_version": "1.5.0",
          "state": {
            "_dom_classes": [],
            "_model_module": "@jupyter-widgets/controls",
            "_model_module_version": "1.5.0",
            "_model_name": "HTMLModel",
            "_view_count": null,
            "_view_module": "@jupyter-widgets/controls",
            "_view_module_version": "1.5.0",
            "_view_name": "HTMLView",
            "description": "",
            "description_tooltip": null,
            "layout": "IPY_MODEL_dbfd40e053e6461fbdc3ff6087854acc",
            "placeholder": "​",
            "style": "IPY_MODEL_abe46d8a197c4987805c3d71880e2dfc",
            "value": " 1.36M/1.36M [00:00&lt;00:00, 3.16MB/s]"
          }
        },
        "0a22dc3fabf3411cb584ab4719ce3ca5": {
          "model_module": "@jupyter-widgets/base",
          "model_name": "LayoutModel",
          "model_module_version": "1.2.0",
          "state": {
            "_model_module": "@jupyter-widgets/base",
            "_model_module_version": "1.2.0",
            "_model_name": "LayoutModel",
            "_view_count": null,
            "_view_module": "@jupyter-widgets/base",
            "_view_module_version": "1.2.0",
            "_view_name": "LayoutView",
            "align_content": null,
            "align_items": null,
            "align_self": null,
            "border": null,
            "bottom": null,
            "display": null,
            "flex": null,
            "flex_flow": null,
            "grid_area": null,
            "grid_auto_columns": null,
            "grid_auto_flow": null,
            "grid_auto_rows": null,
            "grid_column": null,
            "grid_gap": null,
            "grid_row": null,
            "grid_template_areas": null,
            "grid_template_columns": null,
            "grid_template_rows": null,
            "height": null,
            "justify_content": null,
            "justify_items": null,
            "left": null,
            "margin": null,
            "max_height": null,
            "max_width": null,
            "min_height": null,
            "min_width": null,
            "object_fit": null,
            "object_position": null,
            "order": null,
            "overflow": null,
            "overflow_x": null,
            "overflow_y": null,
            "padding": null,
            "right": null,
            "top": null,
            "visibility": null,
            "width": null
          }
        },
        "5010bf30dbf844df9cf5621c7a825955": {
          "model_module": "@jupyter-widgets/base",
          "model_name": "LayoutModel",
          "model_module_version": "1.2.0",
          "state": {
            "_model_module": "@jupyter-widgets/base",
            "_model_module_version": "1.2.0",
            "_model_name": "LayoutModel",
            "_view_count": null,
            "_view_module": "@jupyter-widgets/base",
            "_view_module_version": "1.2.0",
            "_view_name": "LayoutView",
            "align_content": null,
            "align_items": null,
            "align_self": null,
            "border": null,
            "bottom": null,
            "display": null,
            "flex": null,
            "flex_flow": null,
            "grid_area": null,
            "grid_auto_columns": null,
            "grid_auto_flow": null,
            "grid_auto_rows": null,
            "grid_column": null,
            "grid_gap": null,
            "grid_row": null,
            "grid_template_areas": null,
            "grid_template_columns": null,
            "grid_template_rows": null,
            "height": null,
            "justify_content": null,
            "justify_items": null,
            "left": null,
            "margin": null,
            "max_height": null,
            "max_width": null,
            "min_height": null,
            "min_width": null,
            "object_fit": null,
            "object_position": null,
            "order": null,
            "overflow": null,
            "overflow_x": null,
            "overflow_y": null,
            "padding": null,
            "right": null,
            "top": null,
            "visibility": null,
            "width": null
          }
        },
        "1b70fbf2be2c46b99285e208a19eb742": {
          "model_module": "@jupyter-widgets/controls",
          "model_name": "DescriptionStyleModel",
          "model_module_version": "1.5.0",
          "state": {
            "_model_module": "@jupyter-widgets/controls",
            "_model_module_version": "1.5.0",
            "_model_name": "DescriptionStyleModel",
            "_view_count": null,
            "_view_module": "@jupyter-widgets/base",
            "_view_module_version": "1.2.0",
            "_view_name": "StyleView",
            "description_width": ""
          }
        },
        "2170ccb3c78948178db3946ba9786458": {
          "model_module": "@jupyter-widgets/base",
          "model_name": "LayoutModel",
          "model_module_version": "1.2.0",
          "state": {
            "_model_module": "@jupyter-widgets/base",
            "_model_module_version": "1.2.0",
            "_model_name": "LayoutModel",
            "_view_count": null,
            "_view_module": "@jupyter-widgets/base",
            "_view_module_version": "1.2.0",
            "_view_name": "LayoutView",
            "align_content": null,
            "align_items": null,
            "align_self": null,
            "border": null,
            "bottom": null,
            "display": null,
            "flex": null,
            "flex_flow": null,
            "grid_area": null,
            "grid_auto_columns": null,
            "grid_auto_flow": null,
            "grid_auto_rows": null,
            "grid_column": null,
            "grid_gap": null,
            "grid_row": null,
            "grid_template_areas": null,
            "grid_template_columns": null,
            "grid_template_rows": null,
            "height": null,
            "justify_content": null,
            "justify_items": null,
            "left": null,
            "margin": null,
            "max_height": null,
            "max_width": null,
            "min_height": null,
            "min_width": null,
            "object_fit": null,
            "object_position": null,
            "order": null,
            "overflow": null,
            "overflow_x": null,
            "overflow_y": null,
            "padding": null,
            "right": null,
            "top": null,
            "visibility": null,
            "width": null
          }
        },
        "a3b2a1ecc1d04d9bb099add09b9b6ada": {
          "model_module": "@jupyter-widgets/controls",
          "model_name": "ProgressStyleModel",
          "model_module_version": "1.5.0",
          "state": {
            "_model_module": "@jupyter-widgets/controls",
            "_model_module_version": "1.5.0",
            "_model_name": "ProgressStyleModel",
            "_view_count": null,
            "_view_module": "@jupyter-widgets/base",
            "_view_module_version": "1.2.0",
            "_view_name": "StyleView",
            "bar_color": null,
            "description_width": ""
          }
        },
        "dbfd40e053e6461fbdc3ff6087854acc": {
          "model_module": "@jupyter-widgets/base",
          "model_name": "LayoutModel",
          "model_module_version": "1.2.0",
          "state": {
            "_model_module": "@jupyter-widgets/base",
            "_model_module_version": "1.2.0",
            "_model_name": "LayoutModel",
            "_view_count": null,
            "_view_module": "@jupyter-widgets/base",
            "_view_module_version": "1.2.0",
            "_view_name": "LayoutView",
            "align_content": null,
            "align_items": null,
            "align_self": null,
            "border": null,
            "bottom": null,
            "display": null,
            "flex": null,
            "flex_flow": null,
            "grid_area": null,
            "grid_auto_columns": null,
            "grid_auto_flow": null,
            "grid_auto_rows": null,
            "grid_column": null,
            "grid_gap": null,
            "grid_row": null,
            "grid_template_areas": null,
            "grid_template_columns": null,
            "grid_template_rows": null,
            "height": null,
            "justify_content": null,
            "justify_items": null,
            "left": null,
            "margin": null,
            "max_height": null,
            "max_width": null,
            "min_height": null,
            "min_width": null,
            "object_fit": null,
            "object_position": null,
            "order": null,
            "overflow": null,
            "overflow_x": null,
            "overflow_y": null,
            "padding": null,
            "right": null,
            "top": null,
            "visibility": null,
            "width": null
          }
        },
        "abe46d8a197c4987805c3d71880e2dfc": {
          "model_module": "@jupyter-widgets/controls",
          "model_name": "DescriptionStyleModel",
          "model_module_version": "1.5.0",
          "state": {
            "_model_module": "@jupyter-widgets/controls",
            "_model_module_version": "1.5.0",
            "_model_name": "DescriptionStyleModel",
            "_view_count": null,
            "_view_module": "@jupyter-widgets/base",
            "_view_module_version": "1.2.0",
            "_view_name": "StyleView",
            "description_width": ""
          }
        },
        "14f959ab3b5843f4a6da8ac1cc96c0b9": {
          "model_module": "@jupyter-widgets/controls",
          "model_name": "HBoxModel",
          "model_module_version": "1.5.0",
          "state": {
            "_dom_classes": [],
            "_model_module": "@jupyter-widgets/controls",
            "_model_module_version": "1.5.0",
            "_model_name": "HBoxModel",
            "_view_count": null,
            "_view_module": "@jupyter-widgets/controls",
            "_view_module_version": "1.5.0",
            "_view_name": "HBoxView",
            "box_style": "",
            "children": [
              "IPY_MODEL_f422d22a0ddd44a59359e745a3742765",
              "IPY_MODEL_bde2b04e765d41d4a2532635707887d3",
              "IPY_MODEL_d074f9fc3a764219ac7851e4b3b2bf74"
            ],
            "layout": "IPY_MODEL_12b507c9a00e4b05a4cf4a790958896d"
          }
        },
        "f422d22a0ddd44a59359e745a3742765": {
          "model_module": "@jupyter-widgets/controls",
          "model_name": "HTMLModel",
          "model_module_version": "1.5.0",
          "state": {
            "_dom_classes": [],
            "_model_module": "@jupyter-widgets/controls",
            "_model_module_version": "1.5.0",
            "_model_name": "HTMLModel",
            "_view_count": null,
            "_view_module": "@jupyter-widgets/controls",
            "_view_module_version": "1.5.0",
            "_view_name": "HTMLView",
            "description": "",
            "description_tooltip": null,
            "layout": "IPY_MODEL_3e624091238849248b0d714d1a46c30c",
            "placeholder": "​",
            "style": "IPY_MODEL_c5aa66e24e4f408a81a9382b68f863ac",
            "value": "model.safetensors: 100%"
          }
        },
        "bde2b04e765d41d4a2532635707887d3": {
          "model_module": "@jupyter-widgets/controls",
          "model_name": "FloatProgressModel",
          "model_module_version": "1.5.0",
          "state": {
            "_dom_classes": [],
            "_model_module": "@jupyter-widgets/controls",
            "_model_module_version": "1.5.0",
            "_model_name": "FloatProgressModel",
            "_view_count": null,
            "_view_module": "@jupyter-widgets/controls",
            "_view_module_version": "1.5.0",
            "_view_name": "ProgressView",
            "bar_style": "success",
            "description": "",
            "description_tooltip": null,
            "layout": "IPY_MODEL_c6b49b4abc8b43b0bb406ae876a25fdf",
            "max": 1421700479,
            "min": 0,
            "orientation": "horizontal",
            "style": "IPY_MODEL_18aef75d81094f328be1ecb49653a341",
            "value": 1421700479
          }
        },
        "d074f9fc3a764219ac7851e4b3b2bf74": {
          "model_module": "@jupyter-widgets/controls",
          "model_name": "HTMLModel",
          "model_module_version": "1.5.0",
          "state": {
            "_dom_classes": [],
            "_model_module": "@jupyter-widgets/controls",
            "_model_module_version": "1.5.0",
            "_model_name": "HTMLModel",
            "_view_count": null,
            "_view_module": "@jupyter-widgets/controls",
            "_view_module_version": "1.5.0",
            "_view_name": "HTMLView",
            "description": "",
            "description_tooltip": null,
            "layout": "IPY_MODEL_718066c91e4248959944622ec8285f54",
            "placeholder": "​",
            "style": "IPY_MODEL_dacff952c6d242049dc04451a7b59cbf",
            "value": " 1.42G/1.42G [00:10&lt;00:00, 255MB/s]"
          }
        },
        "12b507c9a00e4b05a4cf4a790958896d": {
          "model_module": "@jupyter-widgets/base",
          "model_name": "LayoutModel",
          "model_module_version": "1.2.0",
          "state": {
            "_model_module": "@jupyter-widgets/base",
            "_model_module_version": "1.2.0",
            "_model_name": "LayoutModel",
            "_view_count": null,
            "_view_module": "@jupyter-widgets/base",
            "_view_module_version": "1.2.0",
            "_view_name": "LayoutView",
            "align_content": null,
            "align_items": null,
            "align_self": null,
            "border": null,
            "bottom": null,
            "display": null,
            "flex": null,
            "flex_flow": null,
            "grid_area": null,
            "grid_auto_columns": null,
            "grid_auto_flow": null,
            "grid_auto_rows": null,
            "grid_column": null,
            "grid_gap": null,
            "grid_row": null,
            "grid_template_areas": null,
            "grid_template_columns": null,
            "grid_template_rows": null,
            "height": null,
            "justify_content": null,
            "justify_items": null,
            "left": null,
            "margin": null,
            "max_height": null,
            "max_width": null,
            "min_height": null,
            "min_width": null,
            "object_fit": null,
            "object_position": null,
            "order": null,
            "overflow": null,
            "overflow_x": null,
            "overflow_y": null,
            "padding": null,
            "right": null,
            "top": null,
            "visibility": null,
            "width": null
          }
        },
        "3e624091238849248b0d714d1a46c30c": {
          "model_module": "@jupyter-widgets/base",
          "model_name": "LayoutModel",
          "model_module_version": "1.2.0",
          "state": {
            "_model_module": "@jupyter-widgets/base",
            "_model_module_version": "1.2.0",
            "_model_name": "LayoutModel",
            "_view_count": null,
            "_view_module": "@jupyter-widgets/base",
            "_view_module_version": "1.2.0",
            "_view_name": "LayoutView",
            "align_content": null,
            "align_items": null,
            "align_self": null,
            "border": null,
            "bottom": null,
            "display": null,
            "flex": null,
            "flex_flow": null,
            "grid_area": null,
            "grid_auto_columns": null,
            "grid_auto_flow": null,
            "grid_auto_rows": null,
            "grid_column": null,
            "grid_gap": null,
            "grid_row": null,
            "grid_template_areas": null,
            "grid_template_columns": null,
            "grid_template_rows": null,
            "height": null,
            "justify_content": null,
            "justify_items": null,
            "left": null,
            "margin": null,
            "max_height": null,
            "max_width": null,
            "min_height": null,
            "min_width": null,
            "object_fit": null,
            "object_position": null,
            "order": null,
            "overflow": null,
            "overflow_x": null,
            "overflow_y": null,
            "padding": null,
            "right": null,
            "top": null,
            "visibility": null,
            "width": null
          }
        },
        "c5aa66e24e4f408a81a9382b68f863ac": {
          "model_module": "@jupyter-widgets/controls",
          "model_name": "DescriptionStyleModel",
          "model_module_version": "1.5.0",
          "state": {
            "_model_module": "@jupyter-widgets/controls",
            "_model_module_version": "1.5.0",
            "_model_name": "DescriptionStyleModel",
            "_view_count": null,
            "_view_module": "@jupyter-widgets/base",
            "_view_module_version": "1.2.0",
            "_view_name": "StyleView",
            "description_width": ""
          }
        },
        "c6b49b4abc8b43b0bb406ae876a25fdf": {
          "model_module": "@jupyter-widgets/base",
          "model_name": "LayoutModel",
          "model_module_version": "1.2.0",
          "state": {
            "_model_module": "@jupyter-widgets/base",
            "_model_module_version": "1.2.0",
            "_model_name": "LayoutModel",
            "_view_count": null,
            "_view_module": "@jupyter-widgets/base",
            "_view_module_version": "1.2.0",
            "_view_name": "LayoutView",
            "align_content": null,
            "align_items": null,
            "align_self": null,
            "border": null,
            "bottom": null,
            "display": null,
            "flex": null,
            "flex_flow": null,
            "grid_area": null,
            "grid_auto_columns": null,
            "grid_auto_flow": null,
            "grid_auto_rows": null,
            "grid_column": null,
            "grid_gap": null,
            "grid_row": null,
            "grid_template_areas": null,
            "grid_template_columns": null,
            "grid_template_rows": null,
            "height": null,
            "justify_content": null,
            "justify_items": null,
            "left": null,
            "margin": null,
            "max_height": null,
            "max_width": null,
            "min_height": null,
            "min_width": null,
            "object_fit": null,
            "object_position": null,
            "order": null,
            "overflow": null,
            "overflow_x": null,
            "overflow_y": null,
            "padding": null,
            "right": null,
            "top": null,
            "visibility": null,
            "width": null
          }
        },
        "18aef75d81094f328be1ecb49653a341": {
          "model_module": "@jupyter-widgets/controls",
          "model_name": "ProgressStyleModel",
          "model_module_version": "1.5.0",
          "state": {
            "_model_module": "@jupyter-widgets/controls",
            "_model_module_version": "1.5.0",
            "_model_name": "ProgressStyleModel",
            "_view_count": null,
            "_view_module": "@jupyter-widgets/base",
            "_view_module_version": "1.2.0",
            "_view_name": "StyleView",
            "bar_color": null,
            "description_width": ""
          }
        },
        "718066c91e4248959944622ec8285f54": {
          "model_module": "@jupyter-widgets/base",
          "model_name": "LayoutModel",
          "model_module_version": "1.2.0",
          "state": {
            "_model_module": "@jupyter-widgets/base",
            "_model_module_version": "1.2.0",
            "_model_name": "LayoutModel",
            "_view_count": null,
            "_view_module": "@jupyter-widgets/base",
            "_view_module_version": "1.2.0",
            "_view_name": "LayoutView",
            "align_content": null,
            "align_items": null,
            "align_self": null,
            "border": null,
            "bottom": null,
            "display": null,
            "flex": null,
            "flex_flow": null,
            "grid_area": null,
            "grid_auto_columns": null,
            "grid_auto_flow": null,
            "grid_auto_rows": null,
            "grid_column": null,
            "grid_gap": null,
            "grid_row": null,
            "grid_template_areas": null,
            "grid_template_columns": null,
            "grid_template_rows": null,
            "height": null,
            "justify_content": null,
            "justify_items": null,
            "left": null,
            "margin": null,
            "max_height": null,
            "max_width": null,
            "min_height": null,
            "min_width": null,
            "object_fit": null,
            "object_position": null,
            "order": null,
            "overflow": null,
            "overflow_x": null,
            "overflow_y": null,
            "padding": null,
            "right": null,
            "top": null,
            "visibility": null,
            "width": null
          }
        },
        "dacff952c6d242049dc04451a7b59cbf": {
          "model_module": "@jupyter-widgets/controls",
          "model_name": "DescriptionStyleModel",
          "model_module_version": "1.5.0",
          "state": {
            "_model_module": "@jupyter-widgets/controls",
            "_model_module_version": "1.5.0",
            "_model_name": "DescriptionStyleModel",
            "_view_count": null,
            "_view_module": "@jupyter-widgets/base",
            "_view_module_version": "1.2.0",
            "_view_name": "StyleView",
            "description_width": ""
          }
        }
      }
    }
  },
  "cells": [
    {
      "cell_type": "code",
      "execution_count": null,
      "metadata": {
        "colab": {
          "base_uri": "https://localhost:8080/"
        },
        "id": "3iE71ozClvuS",
        "outputId": "3d4df1cd-0c82-4cd1-e381-e7eb176163cc"
      },
      "outputs": [
        {
          "output_type": "stream",
          "name": "stdout",
          "text": [
            "Requirement already satisfied: transformers in /usr/local/lib/python3.10/dist-packages (4.41.2)\n",
            "Requirement already satisfied: filelock in /usr/local/lib/python3.10/dist-packages (from transformers) (3.15.4)\n",
            "Requirement already satisfied: huggingface-hub<1.0,>=0.23.0 in /usr/local/lib/python3.10/dist-packages (from transformers) (0.23.4)\n",
            "Requirement already satisfied: numpy>=1.17 in /usr/local/lib/python3.10/dist-packages (from transformers) (1.25.2)\n",
            "Requirement already satisfied: packaging>=20.0 in /usr/local/lib/python3.10/dist-packages (from transformers) (24.1)\n",
            "Requirement already satisfied: pyyaml>=5.1 in /usr/local/lib/python3.10/dist-packages (from transformers) (6.0.1)\n",
            "Requirement already satisfied: regex!=2019.12.17 in /usr/local/lib/python3.10/dist-packages (from transformers) (2024.5.15)\n",
            "Requirement already satisfied: requests in /usr/local/lib/python3.10/dist-packages (from transformers) (2.31.0)\n",
            "Requirement already satisfied: tokenizers<0.20,>=0.19 in /usr/local/lib/python3.10/dist-packages (from transformers) (0.19.1)\n",
            "Requirement already satisfied: safetensors>=0.4.1 in /usr/local/lib/python3.10/dist-packages (from transformers) (0.4.3)\n",
            "Requirement already satisfied: tqdm>=4.27 in /usr/local/lib/python3.10/dist-packages (from transformers) (4.66.4)\n",
            "Requirement already satisfied: fsspec>=2023.5.0 in /usr/local/lib/python3.10/dist-packages (from huggingface-hub<1.0,>=0.23.0->transformers) (2023.6.0)\n",
            "Requirement already satisfied: typing-extensions>=3.7.4.3 in /usr/local/lib/python3.10/dist-packages (from huggingface-hub<1.0,>=0.23.0->transformers) (4.12.2)\n",
            "Requirement already satisfied: charset-normalizer<4,>=2 in /usr/local/lib/python3.10/dist-packages (from requests->transformers) (3.3.2)\n",
            "Requirement already satisfied: idna<4,>=2.5 in /usr/local/lib/python3.10/dist-packages (from requests->transformers) (3.7)\n",
            "Requirement already satisfied: urllib3<3,>=1.21.1 in /usr/local/lib/python3.10/dist-packages (from requests->transformers) (2.0.7)\n",
            "Requirement already satisfied: certifi>=2017.4.17 in /usr/local/lib/python3.10/dist-packages (from requests->transformers) (2024.7.4)\n",
            "Requirement already satisfied: nltk in /usr/local/lib/python3.10/dist-packages (3.8.1)\n",
            "Requirement already satisfied: click in /usr/local/lib/python3.10/dist-packages (from nltk) (8.1.7)\n",
            "Requirement already satisfied: joblib in /usr/local/lib/python3.10/dist-packages (from nltk) (1.4.2)\n",
            "Requirement already satisfied: regex>=2021.8.3 in /usr/local/lib/python3.10/dist-packages (from nltk) (2024.5.15)\n",
            "Requirement already satisfied: tqdm in /usr/local/lib/python3.10/dist-packages (from nltk) (4.66.4)\n",
            "Collecting rouge\n",
            "  Downloading rouge-1.0.1-py3-none-any.whl (13 kB)\n",
            "Requirement already satisfied: six in /usr/local/lib/python3.10/dist-packages (from rouge) (1.16.0)\n",
            "Installing collected packages: rouge\n",
            "Successfully installed rouge-1.0.1\n",
            "Collecting bert-score\n",
            "  Downloading bert_score-0.3.13-py3-none-any.whl (61 kB)\n",
            "\u001b[2K     \u001b[90m━━━━━━━━━━━━━━━━━━━━━━━━━━━━━━━━━━━━━━━━\u001b[0m \u001b[32m61.1/61.1 kB\u001b[0m \u001b[31m3.0 MB/s\u001b[0m eta \u001b[36m0:00:00\u001b[0m\n",
            "\u001b[?25hRequirement already satisfied: torch>=1.0.0 in /usr/local/lib/python3.10/dist-packages (from bert-score) (2.3.0+cu121)\n",
            "Requirement already satisfied: pandas>=1.0.1 in /usr/local/lib/python3.10/dist-packages (from bert-score) (2.0.3)\n",
            "Requirement already satisfied: transformers>=3.0.0 in /usr/local/lib/python3.10/dist-packages (from bert-score) (4.41.2)\n",
            "Requirement already satisfied: numpy in /usr/local/lib/python3.10/dist-packages (from bert-score) (1.25.2)\n",
            "Requirement already satisfied: requests in /usr/local/lib/python3.10/dist-packages (from bert-score) (2.31.0)\n",
            "Requirement already satisfied: tqdm>=4.31.1 in /usr/local/lib/python3.10/dist-packages (from bert-score) (4.66.4)\n",
            "Requirement already satisfied: matplotlib in /usr/local/lib/python3.10/dist-packages (from bert-score) (3.7.1)\n",
            "Requirement already satisfied: packaging>=20.9 in /usr/local/lib/python3.10/dist-packages (from bert-score) (24.1)\n",
            "Requirement already satisfied: python-dateutil>=2.8.2 in /usr/local/lib/python3.10/dist-packages (from pandas>=1.0.1->bert-score) (2.8.2)\n",
            "Requirement already satisfied: pytz>=2020.1 in /usr/local/lib/python3.10/dist-packages (from pandas>=1.0.1->bert-score) (2023.4)\n",
            "Requirement already satisfied: tzdata>=2022.1 in /usr/local/lib/python3.10/dist-packages (from pandas>=1.0.1->bert-score) (2024.1)\n",
            "Requirement already satisfied: filelock in /usr/local/lib/python3.10/dist-packages (from torch>=1.0.0->bert-score) (3.15.4)\n",
            "Requirement already satisfied: typing-extensions>=4.8.0 in /usr/local/lib/python3.10/dist-packages (from torch>=1.0.0->bert-score) (4.12.2)\n",
            "Requirement already satisfied: sympy in /usr/local/lib/python3.10/dist-packages (from torch>=1.0.0->bert-score) (1.13.0)\n",
            "Requirement already satisfied: networkx in /usr/local/lib/python3.10/dist-packages (from torch>=1.0.0->bert-score) (3.3)\n",
            "Requirement already satisfied: jinja2 in /usr/local/lib/python3.10/dist-packages (from torch>=1.0.0->bert-score) (3.1.4)\n",
            "Requirement already satisfied: fsspec in /usr/local/lib/python3.10/dist-packages (from torch>=1.0.0->bert-score) (2023.6.0)\n",
            "Collecting nvidia-cuda-nvrtc-cu12==12.1.105 (from torch>=1.0.0->bert-score)\n",
            "  Using cached nvidia_cuda_nvrtc_cu12-12.1.105-py3-none-manylinux1_x86_64.whl (23.7 MB)\n",
            "Collecting nvidia-cuda-runtime-cu12==12.1.105 (from torch>=1.0.0->bert-score)\n",
            "  Using cached nvidia_cuda_runtime_cu12-12.1.105-py3-none-manylinux1_x86_64.whl (823 kB)\n",
            "Collecting nvidia-cuda-cupti-cu12==12.1.105 (from torch>=1.0.0->bert-score)\n",
            "  Using cached nvidia_cuda_cupti_cu12-12.1.105-py3-none-manylinux1_x86_64.whl (14.1 MB)\n",
            "Collecting nvidia-cudnn-cu12==8.9.2.26 (from torch>=1.0.0->bert-score)\n",
            "  Using cached nvidia_cudnn_cu12-8.9.2.26-py3-none-manylinux1_x86_64.whl (731.7 MB)\n",
            "Collecting nvidia-cublas-cu12==12.1.3.1 (from torch>=1.0.0->bert-score)\n",
            "  Using cached nvidia_cublas_cu12-12.1.3.1-py3-none-manylinux1_x86_64.whl (410.6 MB)\n",
            "Collecting nvidia-cufft-cu12==11.0.2.54 (from torch>=1.0.0->bert-score)\n",
            "  Using cached nvidia_cufft_cu12-11.0.2.54-py3-none-manylinux1_x86_64.whl (121.6 MB)\n",
            "Collecting nvidia-curand-cu12==10.3.2.106 (from torch>=1.0.0->bert-score)\n",
            "  Using cached nvidia_curand_cu12-10.3.2.106-py3-none-manylinux1_x86_64.whl (56.5 MB)\n",
            "Collecting nvidia-cusolver-cu12==11.4.5.107 (from torch>=1.0.0->bert-score)\n",
            "  Using cached nvidia_cusolver_cu12-11.4.5.107-py3-none-manylinux1_x86_64.whl (124.2 MB)\n",
            "Collecting nvidia-cusparse-cu12==12.1.0.106 (from torch>=1.0.0->bert-score)\n",
            "  Using cached nvidia_cusparse_cu12-12.1.0.106-py3-none-manylinux1_x86_64.whl (196.0 MB)\n",
            "Collecting nvidia-nccl-cu12==2.20.5 (from torch>=1.0.0->bert-score)\n",
            "  Using cached nvidia_nccl_cu12-2.20.5-py3-none-manylinux2014_x86_64.whl (176.2 MB)\n",
            "Collecting nvidia-nvtx-cu12==12.1.105 (from torch>=1.0.0->bert-score)\n",
            "  Using cached nvidia_nvtx_cu12-12.1.105-py3-none-manylinux1_x86_64.whl (99 kB)\n",
            "Requirement already satisfied: triton==2.3.0 in /usr/local/lib/python3.10/dist-packages (from torch>=1.0.0->bert-score) (2.3.0)\n",
            "Collecting nvidia-nvjitlink-cu12 (from nvidia-cusolver-cu12==11.4.5.107->torch>=1.0.0->bert-score)\n",
            "  Downloading nvidia_nvjitlink_cu12-12.5.82-py3-none-manylinux2014_x86_64.whl (21.3 MB)\n",
            "\u001b[2K     \u001b[90m━━━━━━━━━━━━━━━━━━━━━━━━━━━━━━━━━━━━━━━━\u001b[0m \u001b[32m21.3/21.3 MB\u001b[0m \u001b[31m59.0 MB/s\u001b[0m eta \u001b[36m0:00:00\u001b[0m\n",
            "\u001b[?25hRequirement already satisfied: huggingface-hub<1.0,>=0.23.0 in /usr/local/lib/python3.10/dist-packages (from transformers>=3.0.0->bert-score) (0.23.4)\n",
            "Requirement already satisfied: pyyaml>=5.1 in /usr/local/lib/python3.10/dist-packages (from transformers>=3.0.0->bert-score) (6.0.1)\n",
            "Requirement already satisfied: regex!=2019.12.17 in /usr/local/lib/python3.10/dist-packages (from transformers>=3.0.0->bert-score) (2024.5.15)\n",
            "Requirement already satisfied: tokenizers<0.20,>=0.19 in /usr/local/lib/python3.10/dist-packages (from transformers>=3.0.0->bert-score) (0.19.1)\n",
            "Requirement already satisfied: safetensors>=0.4.1 in /usr/local/lib/python3.10/dist-packages (from transformers>=3.0.0->bert-score) (0.4.3)\n",
            "Requirement already satisfied: contourpy>=1.0.1 in /usr/local/lib/python3.10/dist-packages (from matplotlib->bert-score) (1.2.1)\n",
            "Requirement already satisfied: cycler>=0.10 in /usr/local/lib/python3.10/dist-packages (from matplotlib->bert-score) (0.12.1)\n",
            "Requirement already satisfied: fonttools>=4.22.0 in /usr/local/lib/python3.10/dist-packages (from matplotlib->bert-score) (4.53.1)\n",
            "Requirement already satisfied: kiwisolver>=1.0.1 in /usr/local/lib/python3.10/dist-packages (from matplotlib->bert-score) (1.4.5)\n",
            "Requirement already satisfied: pillow>=6.2.0 in /usr/local/lib/python3.10/dist-packages (from matplotlib->bert-score) (9.4.0)\n",
            "Requirement already satisfied: pyparsing>=2.3.1 in /usr/local/lib/python3.10/dist-packages (from matplotlib->bert-score) (3.1.2)\n",
            "Requirement already satisfied: charset-normalizer<4,>=2 in /usr/local/lib/python3.10/dist-packages (from requests->bert-score) (3.3.2)\n",
            "Requirement already satisfied: idna<4,>=2.5 in /usr/local/lib/python3.10/dist-packages (from requests->bert-score) (3.7)\n",
            "Requirement already satisfied: urllib3<3,>=1.21.1 in /usr/local/lib/python3.10/dist-packages (from requests->bert-score) (2.0.7)\n",
            "Requirement already satisfied: certifi>=2017.4.17 in /usr/local/lib/python3.10/dist-packages (from requests->bert-score) (2024.7.4)\n",
            "Requirement already satisfied: six>=1.5 in /usr/local/lib/python3.10/dist-packages (from python-dateutil>=2.8.2->pandas>=1.0.1->bert-score) (1.16.0)\n",
            "Requirement already satisfied: MarkupSafe>=2.0 in /usr/local/lib/python3.10/dist-packages (from jinja2->torch>=1.0.0->bert-score) (2.1.5)\n",
            "Requirement already satisfied: mpmath<1.4,>=1.1.0 in /usr/local/lib/python3.10/dist-packages (from sympy->torch>=1.0.0->bert-score) (1.3.0)\n",
            "Installing collected packages: nvidia-nvtx-cu12, nvidia-nvjitlink-cu12, nvidia-nccl-cu12, nvidia-curand-cu12, nvidia-cufft-cu12, nvidia-cuda-runtime-cu12, nvidia-cuda-nvrtc-cu12, nvidia-cuda-cupti-cu12, nvidia-cublas-cu12, nvidia-cusparse-cu12, nvidia-cudnn-cu12, nvidia-cusolver-cu12, bert-score\n",
            "Successfully installed bert-score-0.3.13 nvidia-cublas-cu12-12.1.3.1 nvidia-cuda-cupti-cu12-12.1.105 nvidia-cuda-nvrtc-cu12-12.1.105 nvidia-cuda-runtime-cu12-12.1.105 nvidia-cudnn-cu12-8.9.2.26 nvidia-cufft-cu12-11.0.2.54 nvidia-curand-cu12-10.3.2.106 nvidia-cusolver-cu12-11.4.5.107 nvidia-cusparse-cu12-12.1.0.106 nvidia-nccl-cu12-2.20.5 nvidia-nvjitlink-cu12-12.5.82 nvidia-nvtx-cu12-12.1.105\n",
            "Requirement already satisfied: scikit-learn in /usr/local/lib/python3.10/dist-packages (1.2.2)\n",
            "Requirement already satisfied: numpy>=1.17.3 in /usr/local/lib/python3.10/dist-packages (from scikit-learn) (1.25.2)\n",
            "Requirement already satisfied: scipy>=1.3.2 in /usr/local/lib/python3.10/dist-packages (from scikit-learn) (1.11.4)\n",
            "Requirement already satisfied: joblib>=1.1.1 in /usr/local/lib/python3.10/dist-packages (from scikit-learn) (1.4.2)\n",
            "Requirement already satisfied: threadpoolctl>=2.0.0 in /usr/local/lib/python3.10/dist-packages (from scikit-learn) (3.5.0)\n",
            "Requirement already satisfied: scipy in /usr/local/lib/python3.10/dist-packages (1.11.4)\n",
            "Requirement already satisfied: numpy<1.28.0,>=1.21.6 in /usr/local/lib/python3.10/dist-packages (from scipy) (1.25.2)\n",
            "Requirement already satisfied: numpy in /usr/local/lib/python3.10/dist-packages (1.25.2)\n",
            "Collecting rouge_score\n",
            "  Downloading rouge_score-0.1.2.tar.gz (17 kB)\n",
            "  Preparing metadata (setup.py) ... \u001b[?25l\u001b[?25hdone\n",
            "Requirement already satisfied: absl-py in /usr/local/lib/python3.10/dist-packages (from rouge_score) (1.4.0)\n",
            "Requirement already satisfied: nltk in /usr/local/lib/python3.10/dist-packages (from rouge_score) (3.8.1)\n",
            "Requirement already satisfied: numpy in /usr/local/lib/python3.10/dist-packages (from rouge_score) (1.25.2)\n",
            "Requirement already satisfied: six>=1.14.0 in /usr/local/lib/python3.10/dist-packages (from rouge_score) (1.16.0)\n",
            "Requirement already satisfied: click in /usr/local/lib/python3.10/dist-packages (from nltk->rouge_score) (8.1.7)\n",
            "Requirement already satisfied: joblib in /usr/local/lib/python3.10/dist-packages (from nltk->rouge_score) (1.4.2)\n",
            "Requirement already satisfied: regex>=2021.8.3 in /usr/local/lib/python3.10/dist-packages (from nltk->rouge_score) (2024.5.15)\n",
            "Requirement already satisfied: tqdm in /usr/local/lib/python3.10/dist-packages (from nltk->rouge_score) (4.66.4)\n",
            "Building wheels for collected packages: rouge_score\n",
            "  Building wheel for rouge_score (setup.py) ... \u001b[?25l\u001b[?25hdone\n",
            "  Created wheel for rouge_score: filename=rouge_score-0.1.2-py3-none-any.whl size=24933 sha256=117394914873f55e203352627c766ed7b13f6c44e9b3f4e1e4090f649fcabb4d\n",
            "  Stored in directory: /root/.cache/pip/wheels/5f/dd/89/461065a73be61a532ff8599a28e9beef17985c9e9c31e541b4\n",
            "Successfully built rouge_score\n",
            "Installing collected packages: rouge_score\n",
            "Successfully installed rouge_score-0.1.2\n"
          ]
        }
      ],
      "source": [
        "!pip install transformers\n",
        "!pip install nltk\n",
        "!pip install rouge\n",
        "!pip install bert-score\n",
        "!pip install scikit-learn\n",
        "!pip install scipy\n",
        "!pip install numpy\n",
        "!pip install rouge_score"
      ]
    },
    {
      "cell_type": "code",
      "source": [
        "from sklearn.metrics.pairwise import cosine_similarity\n",
        "from transformers import BertTokenizer, BertForMaskedLM, BertModel\n",
        "from bert_score import BERTScorer\n",
        "from rouge import Rouge\n",
        "from rouge_score import rouge_scorer\n",
        "import re\n",
        "import string"
      ],
      "metadata": {
        "id": "tEwZQ8e-l3Lp"
      },
      "execution_count": null,
      "outputs": []
    },
    {
      "cell_type": "markdown",
      "source": [
        "#1"
      ],
      "metadata": {
        "id": "_OgJthvxoCT0"
      }
    },
    {
      "cell_type": "code",
      "source": [
        "from bert_score import score\n",
        "\n",
        "\n",
        "# Fungsi untuk membersihkan teks\n",
        "def clean_text(text):\n",
        "    text = text.lower()  # Mengubah teks menjadi huruf kecil\n",
        "    text = re.sub(f\"[{re.escape(string.punctuation)}]\", \"\", text)  # Menghapus tanda baca\n",
        "    text = re.sub(\"\\s+\", \" \", text).strip()  # Menghapus spasi berlebih\n",
        "    return text\n",
        "\n",
        "# Fungsi untuk menghitung BERT Score\n",
        "def calculate_bert_score(text1, text2):\n",
        "    text1_clean = clean_text(text1)\n",
        "    text2_clean = clean_text(text2)\n",
        "    P, R, F1 = score([text1_clean], [text2_clean], lang='id', model_type='roberta-large')\n",
        "    return P.mean().item(), R.mean().item(), F1.mean().item()\n",
        "\n",
        "\n",
        "# Fungsi untuk menguji model dan menghitung skor\n",
        "def evaluate_model(question, model_response):\n",
        "    bert_precision, bert_recall, bert_f1 = calculate_bert_score(question, model_response)\n",
        "\n",
        "    print(f\"BERT Score - Precision: {bert_precision:.4f}, Recall: {bert_recall:.4f}, F1: {bert_f1:.4f}\")\n",
        "\n",
        "\n",
        "# Contoh penggunaan\n",
        "question = \"jelaskan pengertian psikologis pendidikan?\"\n",
        "model_response = \"Psikologi pendidikan adalah cabang ilmu yang mempelajari hubungan antara individu dan pendidikan. Psikologi pendidikan mengajukan konsep yang membantu memahami cara bagaimana individu belajar, mengalami pembelajaran, dan memahami konsep yang dianggarkan dalam pendidikan. Psikologi pendidikan juga mempelajari cara bagaimana individu mengalami pembelajaran di lingkungan sekolah, dan mengajukan konsep yang membantu memahami cara bagaimana individu dapat mengalami pembelajaran secara optimal.\"\n",
        "\n",
        "evaluate_model(question, model_response)\n"
      ],
      "metadata": {
        "colab": {
          "base_uri": "https://localhost:8080/"
        },
        "id": "KhElixH3qD2F",
        "outputId": "24eed582-50f0-4eab-9fb2-259d3050427b"
      },
      "execution_count": null,
      "outputs": [
        {
          "output_type": "stream",
          "name": "stderr",
          "text": [
            "Some weights of RobertaModel were not initialized from the model checkpoint at roberta-large and are newly initialized: ['roberta.pooler.dense.bias', 'roberta.pooler.dense.weight']\n",
            "You should probably TRAIN this model on a down-stream task to be able to use it for predictions and inference.\n"
          ]
        },
        {
          "output_type": "stream",
          "name": "stdout",
          "text": [
            "BERT Score - Precision: 0.8339, Recall: 0.7672, F1: 0.7992\n"
          ]
        }
      ]
    },
    {
      "cell_type": "code",
      "source": [
        "question = \"jelaskan pengertian psikologis pendidikan?\"\n",
        "model_response = \"Psikologi pendidikan adalah cabang ilmu yang mempelajari hubungan antara individu dan pendidikan. Psikologi pendidikan mengajukan konsep yang membantu memahami cara bagaimana individu belajar, mengalami pembelajaran, dan memahami konsep yang dianggarkan dalam pendidikan. Psikologi pendidikan juga mempelajari cara bagaimana individu mengalami pembelajaran di lingkungan sekolah, dan mengajukan konsep yang membantu memahami cara bagaimana individu dapat mengalami pembelajaran secara optimal.\"\n",
        "# ROUGE calculation\n",
        "scorer = rouge_scorer.RougeScorer(['rouge1', 'rouge2', 'rougeL'], use_stemmer=True)\n",
        "scores = scorer.score(question, model_response)\n",
        "print(f\"ROUGE-1 Precision: {scores['rouge1'].precision:.4f}, Recall: {scores['rouge1'].recall:.4f}, F1: {scores['rouge1'].fmeasure:.4f}\")\n",
        "print(f\"ROUGE-2 Precision: {scores['rouge2'].precision:.4f}, Recall: {scores['rouge2'].recall:.4f}, F1: {scores['rouge2'].fmeasure:.4f}\")\n",
        "print(f\"ROUGE-L Precision: {scores['rougeL'].precision:.4f}, Recall: {scores['rougeL'].recall:.4f}, F1: {scores['rougeL'].fmeasure:.4f}\")"
      ],
      "metadata": {
        "colab": {
          "base_uri": "https://localhost:8080/"
        },
        "id": "Igv6HbG-CHF5",
        "outputId": "93a9e34e-cb86-4953-d6c3-cd30c45322a5"
      },
      "execution_count": null,
      "outputs": [
        {
          "output_type": "stream",
          "name": "stdout",
          "text": [
            "ROUGE-1 Precision: 0.0345, Recall: 0.5000, F1: 0.0645\n",
            "ROUGE-2 Precision: 0.0175, Recall: 0.3333, F1: 0.0333\n",
            "ROUGE-L Precision: 0.0345, Recall: 0.5000, F1: 0.0645\n"
          ]
        }
      ]
    },
    {
      "cell_type": "markdown",
      "source": [
        "#2"
      ],
      "metadata": {
        "id": "pKe3QdzdqEep"
      }
    },
    {
      "cell_type": "code",
      "source": [
        "from bert_score import score\n",
        "\n",
        "\n",
        "# Fungsi untuk membersihkan teks\n",
        "def clean_text(text):\n",
        "    text = text.lower()  # Mengubah teks menjadi huruf kecil\n",
        "    text = re.sub(f\"[{re.escape(string.punctuation)}]\", \"\", text)  # Menghapus tanda baca\n",
        "    text = re.sub(\"\\s+\", \" \", text).strip()  # Menghapus spasi berlebih\n",
        "    return text\n",
        "\n",
        "# Fungsi untuk menghitung BERT Score\n",
        "def calculate_bert_score(text1, text2):\n",
        "    text1_clean = clean_text(text1)\n",
        "    text2_clean = clean_text(text2)\n",
        "    P, R, F1 = score([text1_clean], [text2_clean], lang='id', model_type='roberta-large')\n",
        "    return P.mean().item(), R.mean().item(), F1.mean().item()\n",
        "\n",
        "\n",
        "# Fungsi untuk menguji model dan menghitung skor\n",
        "def evaluate_model(question, model_response):\n",
        "    bert_precision, bert_recall, bert_f1 = calculate_bert_score(question, model_response)\n",
        "\n",
        "    print(f\"BERT Score - Precision: {bert_precision:.4f}, Recall: {bert_recall:.4f}, F1: {bert_f1:.4f}\")\n",
        "\n",
        "\n",
        "# Contoh penggunaan\n",
        "question = \"Apakah kecemasan tanpa alasan bisa diobati dengan terapi?\"\n",
        "model_response = \"Kecemasan tanpa alasan, yang sering disebut dengan kecemasan reaktif, bisa diobati dengan terapi. Terapi untuk kecemasan reaktif mencakup banyak cara, tergantung pada kondisi individu. Sesuai dengan standar psikologi, terapi untuk kecemasan reaktif mencakup penggambaran pemahaman, teknologi pengendalian emosi, dan strategi untuk meningkatkan resilien dan kesadaran. Selain itu, terapi juga dapat mencakup cara untuk menangani kecemasan reaktif di situasi harian. Jadi, jika Anda mengalami kecemasan reaktif yang tidak dikaitkan dengan kondisi spesifik, tetap hubungi kami untuk mendapatkan informasi terkait terapi yang tepat untuk Anda.\"\n",
        "\n",
        "evaluate_model(question, model_response)\n"
      ],
      "metadata": {
        "colab": {
          "base_uri": "https://localhost:8080/",
          "height": 316,
          "referenced_widgets": [
            "d9f23427256e4c2a8a57e788b754171d",
            "158f0fc1d50649589c46927c8638ecdc",
            "30079f0ec1f04de1acc614021f39353a",
            "0b090ca3135d40bb90354671bab48243",
            "12953943c86b4fb68ec7781a98eabd9a",
            "2eadacbf8b2f4b4a84a7e124fc86c31e",
            "8b85c7d4accd47e9959c4d748c85d141",
            "7cf4c0e282684aad9da4d79fb89dbafd",
            "5566a25c31a74438b59c2492664c253e",
            "875d05a1737e4a23bdbb9bee312f99c5",
            "4cbd2a75d1bf478e88119caee8e512b4",
            "e919585b40dd41ea94b7e597e5783217",
            "f10322e729c7437a8285253f4dc8ee73",
            "cbc700771f8c42fc9abaefc1ea52f0e4",
            "2aa8f877f4f44ed1a6c1af2dbe4fc894",
            "109d0b8f8e7c4e8a890ba73338579db7",
            "c68fba18149d4a06bd0c5ec90c49a61b",
            "8367723762144145ace606bbe80e98bc",
            "027d44598c14439897466f778ce64418",
            "c0757c5168644a2db3671a50c60e7024",
            "d08c050314db43c0b7f4f3ac8eb1fd57",
            "f66d4bfebde747acbb540572c6a9d918",
            "4cf3495658cf4b0fa50aab7a89bbed24",
            "497e66f1abe94bd8ad463139daf1ec2b",
            "6b89020f0e4f4a13bf5d1b59ef667fea",
            "529c7ced84324b83bb5c590d386d34f0",
            "59bae3196ae249cfab46dad1a37684cd",
            "9ca15ad890a141d4b64af3024b757e13",
            "65e5a96ab6c645bdbf251e608fa19bd7",
            "3a4895272aaa4b3db90fce6dd1bb5b0b",
            "fd5f419451fa433b864196e2b3aaa0a7",
            "90438afb84c040fd82c6a1c600917c82",
            "e8b5d1303662411dbfd52c7c499b6098",
            "414fae10110c49a7a4789624a6a43ee0",
            "d361901b904148fb90d85cabab96569f",
            "7e2b90213bff4891a26977949fe25fe2",
            "17a249fd72844dcf9e7a4302650266fc",
            "d8a88781caa24dcea5a0682847b4b271",
            "039c00f8268d4d4c96d892a56787ef21",
            "2793a9e8807e4a77bb1c97d54a534216",
            "d9dc26975c644fe5923fa065366998fb",
            "adc9fc8a28654011bfe2d2082c97d138",
            "9d90017ccc87479eba00884943e84032",
            "dff414499f5b47fe9b72f58f2c605656",
            "e2d92caa61414a0daaba848ff1266970",
            "6cd66f2902e446488606f50b73a33d27",
            "8647e3cd020d4d99beae2bb2d8a82ce1",
            "4b4314448ce6429eb8dfa2f8aceb966c",
            "0a22dc3fabf3411cb584ab4719ce3ca5",
            "5010bf30dbf844df9cf5621c7a825955",
            "1b70fbf2be2c46b99285e208a19eb742",
            "2170ccb3c78948178db3946ba9786458",
            "a3b2a1ecc1d04d9bb099add09b9b6ada",
            "dbfd40e053e6461fbdc3ff6087854acc",
            "abe46d8a197c4987805c3d71880e2dfc",
            "14f959ab3b5843f4a6da8ac1cc96c0b9",
            "f422d22a0ddd44a59359e745a3742765",
            "bde2b04e765d41d4a2532635707887d3",
            "d074f9fc3a764219ac7851e4b3b2bf74",
            "12b507c9a00e4b05a4cf4a790958896d",
            "3e624091238849248b0d714d1a46c30c",
            "c5aa66e24e4f408a81a9382b68f863ac",
            "c6b49b4abc8b43b0bb406ae876a25fdf",
            "18aef75d81094f328be1ecb49653a341",
            "718066c91e4248959944622ec8285f54",
            "dacff952c6d242049dc04451a7b59cbf"
          ]
        },
        "id": "EyS5fXRZnaTK",
        "outputId": "a4a62e5a-7e31-435b-dc55-8b3670e126a9"
      },
      "execution_count": null,
      "outputs": [
        {
          "output_type": "display_data",
          "data": {
            "text/plain": [
              "tokenizer_config.json:   0%|          | 0.00/25.0 [00:00<?, ?B/s]"
            ],
            "application/vnd.jupyter.widget-view+json": {
              "version_major": 2,
              "version_minor": 0,
              "model_id": "d9f23427256e4c2a8a57e788b754171d"
            }
          },
          "metadata": {}
        },
        {
          "output_type": "stream",
          "name": "stderr",
          "text": [
            "/usr/local/lib/python3.10/dist-packages/huggingface_hub/file_download.py:1132: FutureWarning: `resume_download` is deprecated and will be removed in version 1.0.0. Downloads always resume when possible. If you want to force a new download, use `force_download=True`.\n",
            "  warnings.warn(\n"
          ]
        },
        {
          "output_type": "display_data",
          "data": {
            "text/plain": [
              "config.json:   0%|          | 0.00/482 [00:00<?, ?B/s]"
            ],
            "application/vnd.jupyter.widget-view+json": {
              "version_major": 2,
              "version_minor": 0,
              "model_id": "e919585b40dd41ea94b7e597e5783217"
            }
          },
          "metadata": {}
        },
        {
          "output_type": "display_data",
          "data": {
            "text/plain": [
              "vocab.json:   0%|          | 0.00/899k [00:00<?, ?B/s]"
            ],
            "application/vnd.jupyter.widget-view+json": {
              "version_major": 2,
              "version_minor": 0,
              "model_id": "4cf3495658cf4b0fa50aab7a89bbed24"
            }
          },
          "metadata": {}
        },
        {
          "output_type": "display_data",
          "data": {
            "text/plain": [
              "merges.txt:   0%|          | 0.00/456k [00:00<?, ?B/s]"
            ],
            "application/vnd.jupyter.widget-view+json": {
              "version_major": 2,
              "version_minor": 0,
              "model_id": "414fae10110c49a7a4789624a6a43ee0"
            }
          },
          "metadata": {}
        },
        {
          "output_type": "display_data",
          "data": {
            "text/plain": [
              "tokenizer.json:   0%|          | 0.00/1.36M [00:00<?, ?B/s]"
            ],
            "application/vnd.jupyter.widget-view+json": {
              "version_major": 2,
              "version_minor": 0,
              "model_id": "e2d92caa61414a0daaba848ff1266970"
            }
          },
          "metadata": {}
        },
        {
          "output_type": "display_data",
          "data": {
            "text/plain": [
              "model.safetensors:   0%|          | 0.00/1.42G [00:00<?, ?B/s]"
            ],
            "application/vnd.jupyter.widget-view+json": {
              "version_major": 2,
              "version_minor": 0,
              "model_id": "14f959ab3b5843f4a6da8ac1cc96c0b9"
            }
          },
          "metadata": {}
        },
        {
          "output_type": "stream",
          "name": "stderr",
          "text": [
            "Some weights of RobertaModel were not initialized from the model checkpoint at roberta-large and are newly initialized: ['roberta.pooler.dense.bias', 'roberta.pooler.dense.weight']\n",
            "You should probably TRAIN this model on a down-stream task to be able to use it for predictions and inference.\n"
          ]
        },
        {
          "output_type": "stream",
          "name": "stdout",
          "text": [
            "BERT Score - Precision: 0.8932, Recall: 0.7751, F1: 0.8299\n"
          ]
        }
      ]
    },
    {
      "cell_type": "code",
      "source": [
        "question = \"Apakah kecemasan tanpa alasan bisa diobati dengan terapi?\"\n",
        "model_response = \"Kecemasan tanpa alasan, yang sering disebut dengan kecemasan reaktif, bisa diobati dengan terapi. Terapi untuk kecemasan reaktif mencakup banyak cara, tergantung pada kondisi individu. Sesuai dengan standar psikologi, terapi untuk kecemasan reaktif mencakup penggambaran pemahaman, teknologi pengendalian emosi, dan strategi untuk meningkatkan resilien dan kesadaran. Selain itu, terapi juga dapat mencakup cara untuk menangani kecemasan reaktif di situasi harian. Jadi, jika Anda mengalami kecemasan reaktif yang tidak dikaitkan dengan kondisi spesifik, tetap hubungi kami untuk mendapatkan informasi terkait terapi yang tepat untuk Anda.\"\n",
        "# ROUGE calculation\n",
        "scorer = rouge_scorer.RougeScorer(['rouge1', 'rouge2', 'rougeL'], use_stemmer=True)\n",
        "scores = scorer.score(question, model_response)\n",
        "print(f\"ROUGE-1 Precision: {scores['rouge1'].precision:.4f}, Recall: {scores['rouge1'].recall:.4f}, F1: {scores['rouge1'].fmeasure:.4f}\")\n",
        "print(f\"ROUGE-2 Precision: {scores['rouge2'].precision:.4f}, Recall: {scores['rouge2'].recall:.4f}, F1: {scores['rouge2'].fmeasure:.4f}\")\n",
        "print(f\"ROUGE-L Precision: {scores['rougeL'].precision:.4f}, Recall: {scores['rougeL'].recall:.4f}, F1: {scores['rougeL'].fmeasure:.4f}\")"
      ],
      "metadata": {
        "colab": {
          "base_uri": "https://localhost:8080/"
        },
        "id": "2jHobi-rDheV",
        "outputId": "8c9842af-b095-465d-aed0-b74952a25d16"
      },
      "execution_count": null,
      "outputs": [
        {
          "output_type": "stream",
          "name": "stdout",
          "text": [
            "ROUGE-1 Precision: 0.0843, Recall: 0.8750, F1: 0.1538\n",
            "ROUGE-2 Precision: 0.0610, Recall: 0.7143, F1: 0.1124\n",
            "ROUGE-L Precision: 0.0843, Recall: 0.8750, F1: 0.1538\n"
          ]
        }
      ]
    },
    {
      "cell_type": "markdown",
      "source": [
        "#3"
      ],
      "metadata": {
        "id": "cSaoq81AoFJ7"
      }
    },
    {
      "cell_type": "code",
      "source": [
        "from bert_score import score\n",
        "\n",
        "\n",
        "# Fungsi untuk membersihkan teks\n",
        "def clean_text(text):\n",
        "    text = text.lower()  # Mengubah teks menjadi huruf kecil\n",
        "    text = re.sub(f\"[{re.escape(string.punctuation)}]\", \"\", text)  # Menghapus tanda baca\n",
        "    text = re.sub(\"\\s+\", \" \", text).strip()  # Menghapus spasi berlebih\n",
        "    return text\n",
        "\n",
        "# Fungsi untuk menghitung BERT Score\n",
        "def calculate_bert_score(text1, text2):\n",
        "    text1_clean = clean_text(text1)\n",
        "    text2_clean = clean_text(text2)\n",
        "    P, R, F1 = score([text1_clean], [text2_clean], lang='id', model_type='roberta-large')\n",
        "    return P.mean().item(), R.mean().item(), F1.mean().item()\n",
        "\n",
        "\n",
        "# Fungsi untuk menguji model dan menghitung skor\n",
        "def evaluate_model(question, model_response):\n",
        "    bert_precision, bert_recall, bert_f1 = calculate_bert_score(question, model_response)\n",
        "\n",
        "    print(f\"BERT Score - Precision: {bert_precision:.4f}, Recall: {bert_recall:.4f}, F1: {bert_f1:.4f}\")\n",
        "\n",
        "\n",
        "# Contoh penggunaan\n",
        "question = \"Bagaimana dampak media sosial terhadap kesehatan mental?\"\n",
        "model_response = \"Ada studi yang menunjukan bahwa penggunaan media sosial secara ekstensif bisa menyebabkan stress, sakit hati, dan tidak nyaman. Namun, konsumsi media sosial yang terkendali dan dikontrol dapat memiliki efek positif, seperti menggabungi dengan komunitas dan mendapatkan informasi dan pendidikan. Kunci adalah penggunaan yang terkendali dan dikontrol.\"\n",
        "\n",
        "evaluate_model(question, model_response)\n"
      ],
      "metadata": {
        "id": "F_ygYbbOrhCs",
        "colab": {
          "base_uri": "https://localhost:8080/"
        },
        "outputId": "5b638e69-c40b-43ca-d331-9c2308e5cbdb"
      },
      "execution_count": null,
      "outputs": [
        {
          "output_type": "stream",
          "name": "stderr",
          "text": [
            "Some weights of RobertaModel were not initialized from the model checkpoint at roberta-large and are newly initialized: ['roberta.pooler.dense.bias', 'roberta.pooler.dense.weight']\n",
            "You should probably TRAIN this model on a down-stream task to be able to use it for predictions and inference.\n"
          ]
        },
        {
          "output_type": "stream",
          "name": "stdout",
          "text": [
            "BERT Score - Precision: 0.8463, Recall: 0.7866, F1: 0.8154\n"
          ]
        }
      ]
    },
    {
      "cell_type": "code",
      "source": [
        "question = \"Bagaimana dampak media sosial terhadap kesehatan mental?\"\n",
        "model_response = \"Ada studi yang menunjukan bahwa penggunaan media sosial secara ekstensif bisa menyebabkan stress, sakit hati, dan tidak nyaman. Namun, konsumsi media sosial yang terkendali dan dikontrol dapat memiliki efek positif, seperti menggabungi dengan komunitas dan mendapatkan informasi dan pendidikan. Kunci adalah penggunaan yang terkendali dan dikontrol.\"\n",
        "# ROUGE calculation\n",
        "scorer = rouge_scorer.RougeScorer(['rouge1', 'rouge2', 'rougeL'], use_stemmer=True)\n",
        "scores = scorer.score(question, model_response)\n",
        "print(f\"ROUGE-1 Precision: {scores['rouge1'].precision:.4f}, Recall: {scores['rouge1'].recall:.4f}, F1: {scores['rouge1'].fmeasure:.4f}\")\n",
        "print(f\"ROUGE-2 Precision: {scores['rouge2'].precision:.4f}, Recall: {scores['rouge2'].recall:.4f}, F1: {scores['rouge2'].fmeasure:.4f}\")\n",
        "print(f\"ROUGE-L Precision: {scores['rougeL'].precision:.4f}, Recall: {scores['rougeL'].recall:.4f}, F1: {scores['rougeL'].fmeasure:.4f}\")"
      ],
      "metadata": {
        "colab": {
          "base_uri": "https://localhost:8080/"
        },
        "id": "bjotOG8fD9Qh",
        "outputId": "f6252533-6d35-4fb5-d1ec-a8fea7d2e316"
      },
      "execution_count": null,
      "outputs": [
        {
          "output_type": "stream",
          "name": "stdout",
          "text": [
            "ROUGE-1 Precision: 0.0435, Recall: 0.2857, F1: 0.0755\n",
            "ROUGE-2 Precision: 0.0222, Recall: 0.1667, F1: 0.0392\n",
            "ROUGE-L Precision: 0.0435, Recall: 0.2857, F1: 0.0755\n"
          ]
        }
      ]
    },
    {
      "cell_type": "markdown",
      "source": [
        "#4"
      ],
      "metadata": {
        "id": "wAlUC07vpMyw"
      }
    },
    {
      "cell_type": "code",
      "source": [
        "from bert_score import score\n",
        "\n",
        "\n",
        "# Fungsi untuk membersihkan teks\n",
        "def clean_text(text):\n",
        "    text = text.lower()  # Mengubah teks menjadi huruf kecil\n",
        "    text = re.sub(f\"[{re.escape(string.punctuation)}]\", \"\", text)  # Menghapus tanda baca\n",
        "    text = re.sub(\"\\s+\", \" \", text).strip()  # Menghapus spasi berlebih\n",
        "    return text\n",
        "\n",
        "# Fungsi untuk menghitung BERT Score\n",
        "def calculate_bert_score(text1, text2):\n",
        "    text1_clean = clean_text(text1)\n",
        "    text2_clean = clean_text(text2)\n",
        "    P, R, F1 = score([text1_clean], [text2_clean], lang='id', model_type='roberta-large')\n",
        "    return P.mean().item(), R.mean().item(), F1.mean().item()\n",
        "\n",
        "\n",
        "# Fungsi untuk menguji model dan menghitung skor\n",
        "def evaluate_model(question, model_response):\n",
        "    bert_precision, bert_recall, bert_f1 = calculate_bert_score(question, model_response)\n",
        "\n",
        "    print(f\"BERT Score - Precision: {bert_precision:.4f}, Recall: {bert_recall:.4f}, F1: {bert_f1:.4f}\")\n",
        "\n",
        "\n",
        "# Contoh penggunaan\n",
        "question = \"Jelaskan apa strategi yang efektif untuk mengelola stres selama masa skripsi?\"\n",
        "model_response = \"Saya akan memberikan beberapa strategi efektif untuk mengelola stres selama masa skripsi:Buat jadwal dan prioritaskan tugas: Buat jadwal yang realistis dan prioritaskan tugas sesuai dengar deadline dan ketidakannya.Penggunaan teknologi: Gunakan teknologi untuk membantu memudahkan tugas, seperti software untuk membuat grafik dan diagram, dan aplikasi untuk mengorganisasi kalender dan prioritas.Permainan dan olahraga: Lakukanpermainan dan olahraga yang menghilangkan stres, seperti berenang, bermain sepak bola, dan olahraga yang lain.Penggunaan meditasi dan teknik breathing: Gunakan meditasi dan teknik breathing untuk mengurangi stres dan meningkatkan kesehatan mental.Seleksi informasi: Pilih informasi yang diperlukan dan dituntut dan jangan menghabungi informasi yang tidak diperlukan dan tidak dituntut.Perlakuan sendiri: Perlakukan sendiri dengan hormat, seperti meminjam buku yang diperlukan dan mengajak teman dan pelajar untuk bantu, dan jangan lupa untuk mencari bantuan dari dosen.Penggunaan konsultasi online: Gunakan konsultasi online dengan dokter dan psikolog untuk menghubungi dan membantu dengan masalah mental dan kesehatan fisik.\"\n",
        "\n",
        "evaluate_model(question, model_response)\n"
      ],
      "metadata": {
        "colab": {
          "base_uri": "https://localhost:8080/"
        },
        "id": "gKHfZzc4oTzy",
        "outputId": "cb449c83-e4d4-459f-ca14-ac4476015829"
      },
      "execution_count": null,
      "outputs": [
        {
          "output_type": "stream",
          "name": "stderr",
          "text": [
            "Some weights of RobertaModel were not initialized from the model checkpoint at roberta-large and are newly initialized: ['roberta.pooler.dense.bias', 'roberta.pooler.dense.weight']\n",
            "You should probably TRAIN this model on a down-stream task to be able to use it for predictions and inference.\n"
          ]
        },
        {
          "output_type": "stream",
          "name": "stdout",
          "text": [
            "BERT Score - Precision: 0.8953, Recall: 0.7607, F1: 0.8225\n"
          ]
        }
      ]
    },
    {
      "cell_type": "code",
      "source": [
        "question = \"Jelaskan apa strategi yang efektif untuk mengelola stres selama masa skripsi?\"\n",
        "model_response = \"Saya akan memberikan beberapa strategi efektif untuk mengelola stres selama masa skripsi:Buat jadwal dan prioritaskan tugas: Buat jadwal yang realistis dan prioritaskan tugas sesuai dengar deadline dan ketidakannya.Penggunaan teknologi: Gunakan teknologi untuk membantu memudahkan tugas, seperti software untuk membuat grafik dan diagram, dan aplikasi untuk mengorganisasi kalender dan prioritas.Permainan dan olahraga: Lakukanpermainan dan olahraga yang menghilangkan stres, seperti berenang, bermain sepak bola, dan olahraga yang lain.Penggunaan meditasi dan teknik breathing: Gunakan meditasi dan teknik breathing untuk mengurangi stres dan meningkatkan kesehatan mental.Seleksi informasi: Pilih informasi yang diperlukan dan dituntut dan jangan menghabungi informasi yang tidak diperlukan dan tidak dituntut.Perlakuan sendiri: Perlakukan sendiri dengan hormat, seperti meminjam buku yang diperlukan dan mengajak teman dan pelajar untuk bantu, dan jangan lupa untuk mencari bantuan dari dosen.Penggunaan konsultasi online: Gunakan konsultasi online dengan dokter dan psikolog untuk menghubungi dan membantu dengan masalah mental dan kesehatan fisik.\"\n",
        "# ROUGE calculation\n",
        "scorer = rouge_scorer.RougeScorer(['rouge1', 'rouge2', 'rougeL'], use_stemmer=True)\n",
        "scores = scorer.score(question, model_response)\n",
        "print(f\"ROUGE-1 Precision: {scores['rouge1'].precision:.4f}, Recall: {scores['rouge1'].recall:.4f}, F1: {scores['rouge1'].fmeasure:.4f}\")\n",
        "print(f\"ROUGE-2 Precision: {scores['rouge2'].precision:.4f}, Recall: {scores['rouge2'].recall:.4f}, F1: {scores['rouge2'].fmeasure:.4f}\")\n",
        "print(f\"ROUGE-L Precision: {scores['rougeL'].precision:.4f}, Recall: {scores['rougeL'].recall:.4f}, F1: {scores['rougeL'].fmeasure:.4f}\")"
      ],
      "metadata": {
        "colab": {
          "base_uri": "https://localhost:8080/"
        },
        "id": "M5Ljy7juELCw",
        "outputId": "13da5d5d-204e-4754-ff40-f6bfa0c76804"
      },
      "execution_count": null,
      "outputs": [
        {
          "output_type": "stream",
          "name": "stdout",
          "text": [
            "ROUGE-1 Precision: 0.0600, Recall: 0.8182, F1: 0.1118\n",
            "ROUGE-2 Precision: 0.0403, Recall: 0.6000, F1: 0.0755\n",
            "ROUGE-L Precision: 0.0533, Recall: 0.7273, F1: 0.0994\n"
          ]
        }
      ]
    },
    {
      "cell_type": "markdown",
      "source": [
        "#5"
      ],
      "metadata": {
        "id": "oTKIPP1gqkdc"
      }
    },
    {
      "cell_type": "code",
      "source": [
        "from bert_score import score\n",
        "\n",
        "\n",
        "# Fungsi untuk membersihkan teks\n",
        "def clean_text(text):\n",
        "    text = text.lower()  # Mengubah teks menjadi huruf kecil\n",
        "    text = re.sub(f\"[{re.escape(string.punctuation)}]\", \"\", text)  # Menghapus tanda baca\n",
        "    text = re.sub(\"\\s+\", \" \", text).strip()  # Menghapus spasi berlebih\n",
        "    return text\n",
        "\n",
        "# Fungsi untuk menghitung BERT Score\n",
        "def calculate_bert_score(text1, text2):\n",
        "    text1_clean = clean_text(text1)\n",
        "    text2_clean = clean_text(text2)\n",
        "    P, R, F1 = score([text1_clean], [text2_clean], lang='id', model_type='roberta-large')\n",
        "    return P.mean().item(), R.mean().item(), F1.mean().item()\n",
        "\n",
        "\n",
        "# Fungsi untuk menguji model dan menghitung skor\n",
        "def evaluate_model(question, model_response):\n",
        "    bert_precision, bert_recall, bert_f1 = calculate_bert_score(question, model_response)\n",
        "\n",
        "    print(f\"BERT Score - Precision: {bert_precision:.4f}, Recall: {bert_recall:.4f}, F1: {bert_f1:.4f}\")\n",
        "\n",
        "\n",
        "# Contoh penggunaan\n",
        "question = \"Apa yang harus saya lakukan jika merasa tertekan karena beban tugas akhir?\"\n",
        "model_response = \"Jika merasa tertekan karena beban tugas akhir, berikut beberapa strategi yang dapat Anda lakukan:Berhenti dan berpisah: Jika merasa tertekan, berhenti dan berpisah dari tugas akhir selama sejak hari. Lakukan hal lain yang membuat Anda merasakan rauk dan nyaman. Penggunaan teknologi: Gunakan teknologi untuk membantu memudahkan tugas, seperti software untuk membuat grafik dan diagram, dan aplikasi untuk mengorganisasi kalender dan prioritasPermainan dan olahraga: Lakukan permainan dan olahraga yang menghilangkan stres, seperti berenang, bermain sepak bola, dan olahraga yang lain. Penggunaan meditasi dan teknik breathing: Gunakan meditasi dan teknik breathing untuk mengurangi stres dan meningkatkan kesehatan mental.\"\n",
        "\n",
        "evaluate_model(question, model_response)\n"
      ],
      "metadata": {
        "colab": {
          "base_uri": "https://localhost:8080/"
        },
        "id": "LPAgH3eFpkYO",
        "outputId": "3f051a1b-fa3b-443c-e24d-46231d983182"
      },
      "execution_count": null,
      "outputs": [
        {
          "output_type": "stream",
          "name": "stderr",
          "text": [
            "Some weights of RobertaModel were not initialized from the model checkpoint at roberta-large and are newly initialized: ['roberta.pooler.dense.bias', 'roberta.pooler.dense.weight']\n",
            "You should probably TRAIN this model on a down-stream task to be able to use it for predictions and inference.\n"
          ]
        },
        {
          "output_type": "stream",
          "name": "stdout",
          "text": [
            "BERT Score - Precision: 0.8978, Recall: 0.7862, F1: 0.8383\n"
          ]
        }
      ]
    },
    {
      "cell_type": "code",
      "source": [
        "question = \"Apa yang harus saya lakukan jika merasa tertekan karena beban tugas akhir?\"\n",
        "model_response = \"Jika merasa tertekan karena beban tugas akhir, berikut beberapa strategi yang dapat Anda lakukan:Berhenti dan berpisah: Jika merasa tertekan, berhenti dan berpisah dari tugas akhir selama sejak hari. Lakukan hal lain yang membuat Anda merasakan rauk dan nyaman. Penggunaan teknologi: Gunakan teknologi untuk membantu memudahkan tugas, seperti software untuk membuat grafik dan diagram, dan aplikasi untuk mengorganisasi kalender dan prioritasPermainan dan olahraga: Lakukan permainan dan olahraga yang menghilangkan stres, seperti berenang, bermain sepak bola, dan olahraga yang lain. Penggunaan meditasi dan teknik breathing: Gunakan meditasi dan teknik breathing untuk mengurangi stres dan meningkatkan kesehatan mental.\"\n",
        "\n",
        "# ROUGE calculation\n",
        "scorer = rouge_scorer.RougeScorer(['rouge1', 'rouge2', 'rougeL'], use_stemmer=True)\n",
        "scores = scorer.score(question, model_response)\n",
        "print(f\"ROUGE-1 Precision: {scores['rouge1'].precision:.4f}, Recall: {scores['rouge1'].recall:.4f}, F1: {scores['rouge1'].fmeasure:.4f}\")\n",
        "print(f\"ROUGE-2 Precision: {scores['rouge2'].precision:.4f}, Recall: {scores['rouge2'].recall:.4f}, F1: {scores['rouge2'].fmeasure:.4f}\")\n",
        "print(f\"ROUGE-L Precision: {scores['rougeL'].precision:.4f}, Recall: {scores['rougeL'].recall:.4f}, F1: {scores['rougeL'].fmeasure:.4f}\")"
      ],
      "metadata": {
        "colab": {
          "base_uri": "https://localhost:8080/"
        },
        "id": "k4funy1VEiGw",
        "outputId": "32c70c96-ce99-4329-8c6f-6e5cc935080d"
      },
      "execution_count": null,
      "outputs": [
        {
          "output_type": "stream",
          "name": "stdout",
          "text": [
            "ROUGE-1 Precision: 0.0938, Recall: 0.7500, F1: 0.1667\n",
            "ROUGE-2 Precision: 0.0632, Recall: 0.5455, F1: 0.1132\n",
            "ROUGE-L Precision: 0.0729, Recall: 0.5833, F1: 0.1296\n"
          ]
        }
      ]
    },
    {
      "cell_type": "markdown",
      "source": [
        "#6"
      ],
      "metadata": {
        "id": "qWwcdD6UrUZX"
      }
    },
    {
      "cell_type": "code",
      "source": [
        "from bert_score import score\n",
        "\n",
        "\n",
        "# Fungsi untuk membersihkan teks\n",
        "def clean_text(text):\n",
        "    text = text.lower()  # Mengubah teks menjadi huruf kecil\n",
        "    text = re.sub(f\"[{re.escape(string.punctuation)}]\", \"\", text)  # Menghapus tanda baca\n",
        "    text = re.sub(\"\\s+\", \" \", text).strip()  # Menghapus spasi berlebih\n",
        "    return text\n",
        "\n",
        "# Fungsi untuk menghitung BERT Score\n",
        "def calculate_bert_score(text1, text2):\n",
        "    text1_clean = clean_text(text1)\n",
        "    text2_clean = clean_text(text2)\n",
        "    P, R, F1 = score([text1_clean], [text2_clean], lang='id', model_type='roberta-large')\n",
        "    return P.mean().item(), R.mean().item(), F1.mean().item()\n",
        "\n",
        "\n",
        "# Fungsi untuk menguji model dan menghitung skor\n",
        "def evaluate_model(question, model_response):\n",
        "    bert_precision, bert_recall, bert_f1 = calculate_bert_score(question, model_response)\n",
        "\n",
        "    print(f\"BERT Score - Precision: {bert_precision:.4f}, Recall: {bert_recall:.4f}, F1: {bert_f1:.4f}\")\n",
        "\n",
        "\n",
        "# Contoh penggunaan\n",
        "question = \"Apa perbedaan antara stres dan depresi?\"\n",
        "model_response = \"Stres dan depresi adalah dua kondisi mental yang berbeda, tetapi terkait satu sama lain. Stres adalah kesadaran mental yang dapat menjadi positif atau negatif tergantung pada situasi dan ukurannya. Stres positif dapat menghasilkan energi dan motivasi, sedangkan stres negatif dapat menyebabkan masalah kesehatan mental dan fisik. Namun, depresi adalah kondisi mental yang dikenal dengan rasa sedih, tidak nyaman, dan tidak memiliki motivasi. Depresi merupakan suatu kondisi yang butuh perawatan khusus.\"\n",
        "\n",
        "evaluate_model(question, model_response)\n"
      ],
      "metadata": {
        "colab": {
          "base_uri": "https://localhost:8080/"
        },
        "id": "K7ATVND-q5qj",
        "outputId": "f3816402-caa0-464b-907b-02809462cb4c"
      },
      "execution_count": null,
      "outputs": [
        {
          "output_type": "stream",
          "name": "stderr",
          "text": [
            "Some weights of RobertaModel were not initialized from the model checkpoint at roberta-large and are newly initialized: ['roberta.pooler.dense.bias', 'roberta.pooler.dense.weight']\n",
            "You should probably TRAIN this model on a down-stream task to be able to use it for predictions and inference.\n"
          ]
        },
        {
          "output_type": "stream",
          "name": "stdout",
          "text": [
            "BERT Score - Precision: 0.8622, Recall: 0.7644, F1: 0.8103\n"
          ]
        }
      ]
    },
    {
      "cell_type": "code",
      "source": [
        "question = \"Apa perbedaan antara stres dan depresi?\"\n",
        "model_response = \"Stres dan depresi adalah dua kondisi mental yang berbeda, tetapi terkait satu sama lain. Stres adalah kesadaran mental yang dapat menjadi positif atau negatif tergantung pada situasi dan ukurannya. Stres positif dapat menghasilkan energi dan motivasi, sedangkan stres negatif dapat menyebabkan masalah kesehatan mental dan fisik. Namun, depresi adalah kondisi mental yang dikenal dengan rasa sedih, tidak nyaman, dan tidak memiliki motivasi. Depresi merupakan suatu kondisi yang butuh perawatan khusus.\"\n",
        "\n",
        "# ROUGE calculation\n",
        "scorer = rouge_scorer.RougeScorer(['rouge1', 'rouge2', 'rougeL'], use_stemmer=True)\n",
        "scores = scorer.score(question, model_response)\n",
        "print(f\"ROUGE-1 Precision: {scores['rouge1'].precision:.4f}, Recall: {scores['rouge1'].recall:.4f}, F1: {scores['rouge1'].fmeasure:.4f}\")\n",
        "print(f\"ROUGE-2 Precision: {scores['rouge2'].precision:.4f}, Recall: {scores['rouge2'].recall:.4f}, F1: {scores['rouge2'].fmeasure:.4f}\")\n",
        "print(f\"ROUGE-L Precision: {scores['rougeL'].precision:.4f}, Recall: {scores['rougeL'].recall:.4f}, F1: {scores['rougeL'].fmeasure:.4f}\")"
      ],
      "metadata": {
        "colab": {
          "base_uri": "https://localhost:8080/"
        },
        "id": "-T8h3Y5VEquI",
        "outputId": "c2693927-8def-4187-d49f-ce42b66389e9"
      },
      "execution_count": null,
      "outputs": [
        {
          "output_type": "stream",
          "name": "stdout",
          "text": [
            "ROUGE-1 Precision: 0.0429, Recall: 0.5000, F1: 0.0789\n",
            "ROUGE-2 Precision: 0.0290, Recall: 0.4000, F1: 0.0541\n",
            "ROUGE-L Precision: 0.0429, Recall: 0.5000, F1: 0.0789\n"
          ]
        }
      ]
    },
    {
      "cell_type": "markdown",
      "source": [
        "#7"
      ],
      "metadata": {
        "id": "8mzTc4XmsrV4"
      }
    },
    {
      "cell_type": "code",
      "source": [
        "from bert_score import score\n",
        "\n",
        "\n",
        "# Fungsi untuk membersihkan teks\n",
        "def clean_text(text):\n",
        "    text = text.lower()  # Mengubah teks menjadi huruf kecil\n",
        "    text = re.sub(f\"[{re.escape(string.punctuation)}]\", \"\", text)  # Menghapus tanda baca\n",
        "    text = re.sub(\"\\s+\", \" \", text).strip()  # Menghapus spasi berlebih\n",
        "    return text\n",
        "\n",
        "# Fungsi untuk menghitung BERT Score\n",
        "def calculate_bert_score(text1, text2):\n",
        "    text1_clean = clean_text(text1)\n",
        "    text2_clean = clean_text(text2)\n",
        "    P, R, F1 = score([text1_clean], [text2_clean], lang='id', model_type='roberta-large')\n",
        "    return P.mean().item(), R.mean().item(), F1.mean().item()\n",
        "\n",
        "\n",
        "# Fungsi untuk menguji model dan menghitung skor\n",
        "def evaluate_model(question, model_response):\n",
        "    bert_precision, bert_recall, bert_f1 = calculate_bert_score(question, model_response)\n",
        "\n",
        "    print(f\"BERT Score - Precision: {bert_precision:.4f}, Recall: {bert_recall:.4f}, F1: {bert_f1:.4f}\")\n",
        "\n",
        "\n",
        "# Contoh penggunaan\n",
        "question = \"Apa tips untuk meningkatkan fokus dan konsentrasi saat bekerja pada tugas akhir?\"\n",
        "model_response = \"Saya akan memberikan beberapa tips untuk meningkatkan fokus dan konsentrasi saat bekerja pada tugas akhir: Membuat jadwal dan prioritaskan tugas: Buat jadwal yang realistis dan prioritaskan tugas sesuai dengan deadline dan ketidakannya. Membangun kalori mental: Lakukan meditasi, teknik breathing, dan eksercis fizikal untuk membangun kalori mental dan membantu meningkatkan fokus dan konsentrasi. Menghilangkan distraksi: Jangan menghadangi distraksi seperti notifikasi pada smartphone, email, dan pesan teks. Gunakan aplikasi untuk menghilangkan distraksi dan mengurangi penggunaan smartphone. Membangun kemampuan fokus: Lakukan pelatihan untuk membangun kemampuan fokus dan konsentrasi, seperti reading comprehension dan mengembangkan kemampuan membaca.\"\n",
        "\n",
        "evaluate_model(question, model_response)\n"
      ],
      "metadata": {
        "colab": {
          "base_uri": "https://localhost:8080/"
        },
        "id": "UdZ5AvFDrsHF",
        "outputId": "67320d08-ef4b-49c2-c6c1-4d8958970805"
      },
      "execution_count": null,
      "outputs": [
        {
          "output_type": "stream",
          "name": "stderr",
          "text": [
            "Some weights of RobertaModel were not initialized from the model checkpoint at roberta-large and are newly initialized: ['roberta.pooler.dense.bias', 'roberta.pooler.dense.weight']\n",
            "You should probably TRAIN this model on a down-stream task to be able to use it for predictions and inference.\n"
          ]
        },
        {
          "output_type": "stream",
          "name": "stdout",
          "text": [
            "BERT Score - Precision: 0.9175, Recall: 0.8032, F1: 0.8565\n"
          ]
        }
      ]
    },
    {
      "cell_type": "code",
      "source": [
        "question = \"Apa tips untuk meningkatkan fokus dan konsentrasi saat bekerja pada tugas akhir?\"\n",
        "model_response = \"Saya akan memberikan beberapa tips untuk meningkatkan fokus dan konsentrasi saat bekerja pada tugas akhir: Membuat jadwal dan prioritaskan tugas: Buat jadwal yang realistis dan prioritaskan tugas sesuai dengan deadline dan ketidakannya. Membangun kalori mental: Lakukan meditasi, teknik breathing, dan eksercis fizikal untuk membangun kalori mental dan membantu meningkatkan fokus dan konsentrasi. Menghilangkan distraksi: Jangan menghadangi distraksi seperti notifikasi pada smartphone, email, dan pesan teks. Gunakan aplikasi untuk menghilangkan distraksi dan mengurangi penggunaan smartphone. Membangun kemampuan fokus: Lakukan pelatihan untuk membangun kemampuan fokus dan konsentrasi, seperti reading comprehension dan mengembangkan kemampuan membaca.\"\n",
        "\n",
        "# ROUGE calculation\n",
        "scorer = rouge_scorer.RougeScorer(['rouge1', 'rouge2', 'rougeL'], use_stemmer=True)\n",
        "scores = scorer.score(question, model_response)\n",
        "print(f\"ROUGE-1 Precision: {scores['rouge1'].precision:.4f}, Recall: {scores['rouge1'].recall:.4f}, F1: {scores['rouge1'].fmeasure:.4f}\")\n",
        "print(f\"ROUGE-2 Precision: {scores['rouge2'].precision:.4f}, Recall: {scores['rouge2'].recall:.4f}, F1: {scores['rouge2'].fmeasure:.4f}\")\n",
        "print(f\"ROUGE-L Precision: {scores['rougeL'].precision:.4f}, Recall: {scores['rougeL'].recall:.4f}, F1: {scores['rougeL'].fmeasure:.4f}\")"
      ],
      "metadata": {
        "colab": {
          "base_uri": "https://localhost:8080/"
        },
        "id": "AIJmSTkUEy5l",
        "outputId": "29071bcf-39b1-4a88-89eb-2a06933b4860"
      },
      "execution_count": null,
      "outputs": [
        {
          "output_type": "stream",
          "name": "stdout",
          "text": [
            "ROUGE-1 Precision: 0.1196, Recall: 0.9167, F1: 0.2115\n",
            "ROUGE-2 Precision: 0.1099, Recall: 0.9091, F1: 0.1961\n",
            "ROUGE-L Precision: 0.1196, Recall: 0.9167, F1: 0.2115\n"
          ]
        }
      ]
    },
    {
      "cell_type": "markdown",
      "source": [
        "#8"
      ],
      "metadata": {
        "id": "NWzTFND8tmbS"
      }
    },
    {
      "cell_type": "code",
      "source": [
        "from bert_score import score\n",
        "\n",
        "\n",
        "# Fungsi untuk membersihkan teks\n",
        "def clean_text(text):\n",
        "    text = text.lower()  # Mengubah teks menjadi huruf kecil\n",
        "    text = re.sub(f\"[{re.escape(string.punctuation)}]\", \"\", text)  # Menghapus tanda baca\n",
        "    text = re.sub(\"\\s+\", \" \", text).strip()  # Menghapus spasi berlebih\n",
        "    return text\n",
        "\n",
        "# Fungsi untuk menghitung BERT Score\n",
        "def calculate_bert_score(text1, text2):\n",
        "    text1_clean = clean_text(text1)\n",
        "    text2_clean = clean_text(text2)\n",
        "    P, R, F1 = score([text1_clean], [text2_clean], lang='id', model_type='roberta-large')\n",
        "    return P.mean().item(), R.mean().item(), F1.mean().item()\n",
        "\n",
        "\n",
        "# Fungsi untuk menguji model dan menghitung skor\n",
        "def evaluate_model(question, model_response):\n",
        "    bert_precision, bert_recall, bert_f1 = calculate_bert_score(question, model_response)\n",
        "\n",
        "    print(f\"BERT Score - Precision: {bert_precision:.4f}, Recall: {bert_recall:.4f}, F1: {bert_f1:.4f}\")\n",
        "\n",
        "\n",
        "# Contoh penggunaan\n",
        "question = \"Bagaimana cara membangun kembali motivasi ketika merasa putus asa dengan tugas akhir?\"\n",
        "model_response = \"Saya bisa memberikan Anda beberapa tips untuk membangun kembali motivasi ketika merasa putus asa dengan tugas akhir. Pertama, Anda bisa mencetak dan membaca artikel-artikel tentang cara menghadapi tugas akhir. Kedua, Anda bisa membicarakan dengan orang lain yang sudah menyelesaikan tugas akhir dan mencari tips dan tricks untuk menangani tugas akhir. Ketiga, Anda bisa membuat jadwal dan membahas dengan diri Anda sendiri tentang cara menghadapi tugas akhir. Kempat, Anda bisa melakukan aktivitas yang menyenangkan dan menggabungkan diri Anda dengan pengalaman positif lain.\"\n",
        "evaluate_model(question, model_response)\n"
      ],
      "metadata": {
        "colab": {
          "base_uri": "https://localhost:8080/"
        },
        "id": "YJG-i2PYs7hI",
        "outputId": "b2357afd-1e3a-4183-f449-50f963d9417c"
      },
      "execution_count": null,
      "outputs": [
        {
          "output_type": "stream",
          "name": "stderr",
          "text": [
            "Some weights of RobertaModel were not initialized from the model checkpoint at roberta-large and are newly initialized: ['roberta.pooler.dense.bias', 'roberta.pooler.dense.weight']\n",
            "You should probably TRAIN this model on a down-stream task to be able to use it for predictions and inference.\n"
          ]
        },
        {
          "output_type": "stream",
          "name": "stdout",
          "text": [
            "BERT Score - Precision: 0.9114, Recall: 0.8052, F1: 0.8550\n"
          ]
        }
      ]
    },
    {
      "cell_type": "code",
      "source": [
        "question = \"Bagaimana cara membangun kembali motivasi ketika merasa putus asa dengan tugas akhir?\"\n",
        "model_response = \"Saya bisa memberikan Anda beberapa tips untuk membangun kembali motivasi ketika merasa putus asa dengan tugas akhir. Pertama, Anda bisa mencetak dan membaca artikel-artikel tentang cara menghadapi tugas akhir. Kedua, Anda bisa membicarakan dengan orang lain yang sudah menyelesaikan tugas akhir dan mencari tips dan tricks untuk menangani tugas akhir. Ketiga, Anda bisa membuat jadwal dan membahas dengan diri Anda sendiri tentang cara menghadapi tugas akhir. Kempat, Anda bisa melakukan aktivitas yang menyenangkan dan menggabungkan diri Anda dengan pengalaman positif lain.\"\n",
        "\n",
        "# ROUGE calculation\n",
        "scorer = rouge_scorer.RougeScorer(['rouge1', 'rouge2', 'rougeL'], use_stemmer=True)\n",
        "scores = scorer.score(question, model_response)\n",
        "print(f\"ROUGE-1 Precision: {scores['rouge1'].precision:.4f}, Recall: {scores['rouge1'].recall:.4f}, F1: {scores['rouge1'].fmeasure:.4f}\")\n",
        "print(f\"ROUGE-2 Precision: {scores['rouge2'].precision:.4f}, Recall: {scores['rouge2'].recall:.4f}, F1: {scores['rouge2'].fmeasure:.4f}\")\n",
        "print(f\"ROUGE-L Precision: {scores['rougeL'].precision:.4f}, Recall: {scores['rougeL'].recall:.4f}, F1: {scores['rougeL'].fmeasure:.4f}\")"
      ],
      "metadata": {
        "colab": {
          "base_uri": "https://localhost:8080/"
        },
        "id": "cttsUIhaFx9w",
        "outputId": "d5da6a4a-3343-4b56-a5e2-6b22ad2c955d"
      },
      "execution_count": null,
      "outputs": [
        {
          "output_type": "stream",
          "name": "stdout",
          "text": [
            "ROUGE-1 Precision: 0.1341, Recall: 0.9167, F1: 0.2340\n",
            "ROUGE-2 Precision: 0.1111, Recall: 0.8182, F1: 0.1957\n",
            "ROUGE-L Precision: 0.1220, Recall: 0.8333, F1: 0.2128\n"
          ]
        }
      ]
    },
    {
      "cell_type": "markdown",
      "source": [
        "#9"
      ],
      "metadata": {
        "id": "Gd3xeVwPuuMX"
      }
    },
    {
      "cell_type": "code",
      "source": [
        "from bert_score import score\n",
        "\n",
        "\n",
        "# Fungsi untuk membersihkan teks\n",
        "def clean_text(text):\n",
        "    text = text.lower()  # Mengubah teks menjadi huruf kecil\n",
        "    text = re.sub(f\"[{re.escape(string.punctuation)}]\", \"\", text)  # Menghapus tanda baca\n",
        "    text = re.sub(\"\\s+\", \" \", text).strip()  # Menghapus spasi berlebih\n",
        "    return text\n",
        "\n",
        "# Fungsi untuk menghitung BERT Score\n",
        "def calculate_bert_score(text1, text2):\n",
        "    text1_clean = clean_text(text1)\n",
        "    text2_clean = clean_text(text2)\n",
        "    P, R, F1 = score([text1_clean], [text2_clean], lang='id', model_type='roberta-large')\n",
        "    return P.mean().item(), R.mean().item(), F1.mean().item()\n",
        "\n",
        "\n",
        "# Fungsi untuk menguji model dan menghitung skor\n",
        "def evaluate_model(question, model_response):\n",
        "    bert_precision, bert_recall, bert_f1 = calculate_bert_score(question, model_response)\n",
        "\n",
        "    print(f\"BERT Score - Precision: {bert_precision:.4f}, Recall: {bert_recall:.4f}, F1: {bert_f1:.4f}\")\n",
        "\n",
        "\n",
        "# Contoh penggunaan\n",
        "question = \"Bagaimana cara meminta dukungan dari teman atau keluarga ketika merasa kewalahan dengan skripsi?\"\n",
        "model_response = \"beberapa cara meminta dukungan dari teman atau keluarga ketika merasa kewalahan dengan skripsi: Memperkirakan keperluan: Pertama-tama, Anda perlu memperkirakan keperluan yang Anda inginkan. Apa yang Anda inginkan dari teman atau keluarga? Apakah Anda ingin bantuan dalam memahami konsep atau metode? Atau apakah Anda ingin bantuan dalam memahami dan menghasilkan ide? Menghubungi teman atau keluarga: Kemudian, Anda dapat menghubungi teman atau keluarga dan menggabungi Anda dalam aktivitas yang menghasilkan ide dan menggabungi Anda dalam aktivitas yang membantu memahami konsep dan metode. Membentuk grup studi: Anda dapat membentuk grup studi untuk menggabungi Anda dengan teman-teman yang memiliki kemampuan yang sama dengan Anda. Dalam grup studi, Anda dapat membantu dan mendapatkan bantuan dari teman-teman dalam menggabungi Anda dalam aktivitas yang membantu memahami konsep dan metode. Membentuk kesatuan: Anda dapat membentuk kesatuan dengan teman-teman dan keluarga untuk mendapatkan dukungan dan motivasi dalam menyelesaikan tugas akhir. Dalam kesatuan, Anda dapat membahas kesulitan dan mendapatkan dukungan dan motivasi dalam menyelesaikan tugas akhir.\"\n",
        "\n",
        "evaluate_model(question, model_response)\n"
      ],
      "metadata": {
        "colab": {
          "base_uri": "https://localhost:8080/"
        },
        "id": "ZZAXJJLptuWa",
        "outputId": "129f1429-b58b-4498-9e5c-0db3e12717e3"
      },
      "execution_count": null,
      "outputs": [
        {
          "output_type": "stream",
          "name": "stderr",
          "text": [
            "Some weights of RobertaModel were not initialized from the model checkpoint at roberta-large and are newly initialized: ['roberta.pooler.dense.bias', 'roberta.pooler.dense.weight']\n",
            "You should probably TRAIN this model on a down-stream task to be able to use it for predictions and inference.\n"
          ]
        },
        {
          "output_type": "stream",
          "name": "stdout",
          "text": [
            "BERT Score - Precision: 0.9073, Recall: 0.7708, F1: 0.8335\n"
          ]
        }
      ]
    },
    {
      "cell_type": "code",
      "source": [
        "question = \"Bagaimana cara meminta dukungan dari teman atau keluarga ketika merasa kewalahan dengan skripsi?\"\n",
        "model_response = \"beberapa cara meminta dukungan dari teman atau keluarga ketika merasa kewalahan dengan skripsi: Memperkirakan keperluan: Pertama-tama, Anda perlu memperkirakan keperluan yang Anda inginkan. Apa yang Anda inginkan dari teman atau keluarga? Apakah Anda ingin bantuan dalam memahami konsep atau metode? Atau apakah Anda ingin bantuan dalam memahami dan menghasilkan ide? Menghubungi teman atau keluarga: Kemudian, Anda dapat menghubungi teman atau keluarga dan menggabungi Anda dalam aktivitas yang menghasilkan ide dan menggabungi Anda dalam aktivitas yang membantu memahami konsep dan metode. Membentuk grup studi: Anda dapat membentuk grup studi untuk menggabungi Anda dengan teman-teman yang memiliki kemampuan yang sama dengan Anda. Dalam grup studi, Anda dapat membantu dan mendapatkan bantuan dari teman-teman dalam menggabungi Anda dalam aktivitas yang membantu memahami konsep dan metode. Membentuk kesatuan: Anda dapat membentuk kesatuan dengan teman-teman dan keluarga untuk mendapatkan dukungan dan motivasi dalam menyelesaikan tugas akhir. Dalam kesatuan, Anda dapat membahas kesulitan dan mendapatkan dukungan dan motivasi dalam menyelesaikan tugas akhir.\"\n",
        "\n",
        "# ROUGE calculation\n",
        "scorer = rouge_scorer.RougeScorer(['rouge1', 'rouge2', 'rougeL'], use_stemmer=True)\n",
        "scores = scorer.score(question, model_response)\n",
        "print(f\"ROUGE-1 Precision: {scores['rouge1'].precision:.4f}, Recall: {scores['rouge1'].recall:.4f}, F1: {scores['rouge1'].fmeasure:.4f}\")\n",
        "print(f\"ROUGE-2 Precision: {scores['rouge2'].precision:.4f}, Recall: {scores['rouge2'].recall:.4f}, F1: {scores['rouge2'].fmeasure:.4f}\")\n",
        "print(f\"ROUGE-L Precision: {scores['rougeL'].precision:.4f}, Recall: {scores['rougeL'].recall:.4f}, F1: {scores['rougeL'].fmeasure:.4f}\")"
      ],
      "metadata": {
        "colab": {
          "base_uri": "https://localhost:8080/"
        },
        "id": "2oLGUEU4F53p",
        "outputId": "7e016e85-09d6-4d78-8e6d-70fa8114530c"
      },
      "execution_count": null,
      "outputs": [
        {
          "output_type": "stream",
          "name": "stdout",
          "text": [
            "ROUGE-1 Precision: 0.0750, Recall: 0.9231, F1: 0.1387\n",
            "ROUGE-2 Precision: 0.0692, Recall: 0.9167, F1: 0.1287\n",
            "ROUGE-L Precision: 0.0750, Recall: 0.9231, F1: 0.1387\n"
          ]
        }
      ]
    },
    {
      "cell_type": "markdown",
      "source": [
        "#10"
      ],
      "metadata": {
        "id": "ReeDLIrLvxRT"
      }
    },
    {
      "cell_type": "code",
      "source": [
        "from bert_score import score\n",
        "\n",
        "\n",
        "# Fungsi untuk membersihkan teks\n",
        "def clean_text(text):\n",
        "    text = text.lower()  # Mengubah teks menjadi huruf kecil\n",
        "    text = re.sub(f\"[{re.escape(string.punctuation)}]\", \"\", text)  # Menghapus tanda baca\n",
        "    text = re.sub(\"\\s+\", \" \", text).strip()  # Menghapus spasi berlebih\n",
        "    return text\n",
        "\n",
        "# Fungsi untuk menghitung BERT Score\n",
        "def calculate_bert_score(text1, text2):\n",
        "    text1_clean = clean_text(text1)\n",
        "    text2_clean = clean_text(text2)\n",
        "    P, R, F1 = score([text1_clean], [text2_clean], lang='id', model_type='roberta-large')\n",
        "    return P.mean().item(), R.mean().item(), F1.mean().item()\n",
        "\n",
        "\n",
        "# Fungsi untuk menguji model dan menghitung skor\n",
        "def evaluate_model(question, model_response):\n",
        "    bert_precision, bert_recall, bert_f1 = calculate_bert_score(question, model_response)\n",
        "\n",
        "    print(f\"BERT Score - Precision: {bert_precision:.4f}, Recall: {bert_recall:.4f}, F1: {bert_f1:.4f}\")\n",
        "\n",
        "\n",
        "# Contoh penggunaan\n",
        "question = \"Apa efek jangka panjang dari stres yang tidak ditangani?\"\n",
        "model_response = \"Stres yang tidak ditangani dapat menyebabkan efek jangka panjang yang negatif terhadap kesehatan mental dan fisikal. Efek jangka panjang dari stres yang tidak ditangani dapat menyebabkan: Kesehatan mental: Stres yang tidak ditangani dapat menyebabkan depresi, ansiori, dan kesulitan dalam mengatasi masalah. Stres yang tidak ditangani dapat juga menyebabkan pemikiran negatif, kesulitan dalam mengatasi masalah, dan kesulitan dalam mengatasi masalah. Kesehatan fizikal: Stres yang tidak ditangani dapat menyebabkan penyakit fizikal, seperti masalah kardiovaskuler, masalah immunologi, dan masalah respiratori. Stres yang tidak ditangani dapat juga menyebabkan ketidakanakaman dan ketidaksehatan. Kesehatan relasi: Stres yang tidak ditangani dapat menyebabkan masalah dalam hubungan dengan teman, keluarga, dan rombongan kerja. Stres yang tidak ditangani dapat juga menyebabkan kesulitan dalam mengatasi masalah dalam hubungan dengan teman, keluarga, dan rombongan kerja. Kesehatan umum: Stres yang tidak ditangani dapat menyebabkan masalah dalam hubungan dengan lingkungan dan komunitas. Stres yang tidak ditangani dapat juga menyebabkan kesulitan dalam mengatasi masalah dalam hubungan dengan lingkungan dan komunitas.\"\n",
        "\n",
        "evaluate_model(question, model_response)\n"
      ],
      "metadata": {
        "colab": {
          "base_uri": "https://localhost:8080/"
        },
        "id": "LipagFWbvGI_",
        "outputId": "d2274532-b9dc-4ec4-9c43-a232d681beef"
      },
      "execution_count": null,
      "outputs": [
        {
          "output_type": "stream",
          "name": "stderr",
          "text": [
            "Some weights of RobertaModel were not initialized from the model checkpoint at roberta-large and are newly initialized: ['roberta.pooler.dense.bias', 'roberta.pooler.dense.weight']\n",
            "You should probably TRAIN this model on a down-stream task to be able to use it for predictions and inference.\n"
          ]
        },
        {
          "output_type": "stream",
          "name": "stdout",
          "text": [
            "BERT Score - Precision: 0.8686, Recall: 0.7437, F1: 0.8013\n"
          ]
        }
      ]
    },
    {
      "cell_type": "code",
      "source": [
        "question = \"Apa efek jangka panjang dari stres yang tidak ditangani?\"\n",
        "model_response = \"Stres yang tidak ditangani dapat menyebabkan efek jangka panjang yang negatif terhadap kesehatan mental dan fisikal. Efek jangka panjang dari stres yang tidak ditangani dapat menyebabkan: Kesehatan mental: Stres yang tidak ditangani dapat menyebabkan depresi, ansiori, dan kesulitan dalam mengatasi masalah. Stres yang tidak ditangani dapat juga menyebabkan pemikiran negatif, kesulitan dalam mengatasi masalah, dan kesulitan dalam mengatasi masalah. Kesehatan fizikal: Stres yang tidak ditangani dapat menyebabkan penyakit fizikal, seperti masalah kardiovaskuler, masalah immunologi, dan masalah respiratori. Stres yang tidak ditangani dapat juga menyebabkan ketidakanakaman dan ketidaksehatan. Kesehatan relasi: Stres yang tidak ditangani dapat menyebabkan masalah dalam hubungan dengan teman, keluarga, dan rombongan kerja. Stres yang tidak ditangani dapat juga menyebabkan kesulitan dalam mengatasi masalah dalam hubungan dengan teman, keluarga, dan rombongan kerja. Kesehatan umum: Stres yang tidak ditangani dapat menyebabkan masalah dalam hubungan dengan lingkungan dan komunitas. Stres yang tidak ditangani dapat juga menyebabkan kesulitan dalam mengatasi masalah dalam hubungan dengan lingkungan dan komunitas.\"\n",
        "\n",
        "# ROUGE calculation\n",
        "scorer = rouge_scorer.RougeScorer(['rouge1', 'rouge2', 'rougeL'], use_stemmer=True)\n",
        "scores = scorer.score(question, model_response)\n",
        "print(f\"ROUGE-1 Precision: {scores['rouge1'].precision:.4f}, Recall: {scores['rouge1'].recall:.4f}, F1: {scores['rouge1'].fmeasure:.4f}\")\n",
        "print(f\"ROUGE-2 Precision: {scores['rouge2'].precision:.4f}, Recall: {scores['rouge2'].recall:.4f}, F1: {scores['rouge2'].fmeasure:.4f}\")\n",
        "print(f\"ROUGE-L Precision: {scores['rougeL'].precision:.4f}, Recall: {scores['rougeL'].recall:.4f}, F1: {scores['rougeL'].fmeasure:.4f}\")"
      ],
      "metadata": {
        "colab": {
          "base_uri": "https://localhost:8080/"
        },
        "id": "7CCCUTSdwD_x",
        "outputId": "029d9281-0397-4f75-9be4-abee1052c44e"
      },
      "execution_count": null,
      "outputs": [
        {
          "output_type": "stream",
          "name": "stdout",
          "text": [
            "ROUGE-1 Precision: 0.0516, Recall: 0.8889, F1: 0.0976\n",
            "ROUGE-2 Precision: 0.0455, Recall: 0.8750, F1: 0.0864\n",
            "ROUGE-L Precision: 0.0516, Recall: 0.8889, F1: 0.0976\n"
          ]
        }
      ]
    },
    {
      "cell_type": "code",
      "source": [],
      "metadata": {
        "id": "5EmWEOzGGFKz"
      },
      "execution_count": null,
      "outputs": []
    }
  ]
}